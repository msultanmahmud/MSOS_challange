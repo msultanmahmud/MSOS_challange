{
 "cells": [
  {
   "cell_type": "markdown",
   "metadata": {},
   "source": [
    "# Function to read the data from folder"
   ]
  },
  {
   "cell_type": "code",
   "execution_count": 1,
   "metadata": {
    "collapsed": false
   },
   "outputs": [],
   "source": [
    "import numpy as np\n",
    "import pandas as pd\n",
    "import matplotlib.pyplot as plt\n",
    "from sklearn import preprocessing\n",
    "from sklearn import svm, metrics\n",
    "from sklearn.ensemble import RandomForestClassifier\n",
    "from sklearn.model_selection import train_test_split, GridSearchCV,cross_val_score\n",
    "from sklearn.metrics import accuracy_score,confusion_matrix,roc_curve, auc\n",
    "from matplotlib import pyplot as plt\n",
    "from collections import Counter\n",
    "from scipy.stats import norm, zscore\n",
    "import seaborn as sns; sns.set(font_scale=1.2)\n",
    "from sklearn.externals import joblib\n",
    "%matplotlib inline"
   ]
  },
  {
   "cell_type": "code",
   "execution_count": 6,
   "metadata": {
    "collapsed": false
   },
   "outputs": [],
   "source": [
    "# # Std normalization process\n",
    "# def readnormalized(path, filename):\n",
    "#     datafeatures=pd.read_csv(path+filename,header=None)\n",
    "#     dfr=datafeatures[datafeatures.columns[0]]\n",
    "#     df=datafeatures[datafeatures.columns[1:]]\n",
    "# #     dzs=df.apply(zscore)\n",
    "#     min_max_scaler = preprocessing.MinMaxScaler()\n",
    "#     scaled_array = min_max_scaler.fit_transform(df)\n",
    "#     dfn=scaled_array\n",
    "#     df_normalized = pd.DataFrame(dfn)\n",
    "#     da=pd.concat([dfr, df_normalized],axis=1)\n",
    "#     return da;"
   ]
  },
  {
   "cell_type": "code",
   "execution_count": 7,
   "metadata": {
    "collapsed": false
   },
   "outputs": [],
   "source": [
    "# path='C:/Users/Sultan/OneDrive - The University of Memphis/RESEARCH2017S/Msos/ACA-Code-master/Features/';\n",
    "# filename='Effects5Features.csv'\n",
    "# eff=readnormalized(path, filename)\n",
    "# hum=readnormalized(path,'Human5Features.csv')\n",
    "# mus=readnormalized(path,'Music5Features.csv')\n",
    "# nat=readnormalized(path,'Nature5Features.csv')\n",
    "# urb=readnormalized(path,'Urban5Features.csv')"
   ]
  },
  {
   "cell_type": "code",
   "execution_count": 40,
   "metadata": {
    "collapsed": false
   },
   "outputs": [],
   "source": [
    "# All=pd.concat([eff, hum,mus,nat,urb], axis=0)\n",
    "# # eff.head()\n",
    "# All"
   ]
  },
  {
   "cell_type": "markdown",
   "metadata": {},
   "source": [
    "# Write the Xls file"
   ]
  },
  {
   "cell_type": "code",
   "execution_count": 41,
   "metadata": {
    "collapsed": false
   },
   "outputs": [],
   "source": [
    "# writer = pd.ExcelWriter(path+'allstdscore.xlsx')\n",
    "# All.to_excel(writer,'Sheet1')\n",
    "# writer.save()"
   ]
  },
  {
   "cell_type": "code",
   "execution_count": 42,
   "metadata": {
    "collapsed": false
   },
   "outputs": [],
   "source": [
    "# TrainLabel=pd.read_csv(path+'Logsheet_Development.csv')\n",
    "# b=All[0].tail()\n",
    "#print TrainLabel \n",
    "#TrainLabel['File']"
   ]
  },
  {
   "cell_type": "markdown",
   "metadata": {},
   "source": [
    "#  Reading csv data"
   ]
  },
  {
   "cell_type": "code",
   "execution_count": 43,
   "metadata": {
    "collapsed": false
   },
   "outputs": [],
   "source": [
    "path='C:/Users/Sultan/OneDrive - The University of Memphis/RESEARCH2017S/Msos/ACA-Code-master/Features/';\n",
    "TrainLabel=pd.read_csv(path+'Logsheet_Development.csv')\n",
    "#NewAll=pd.read_csv('all.csv')\n",
    "# First need to add a 'FileName' in the 2nd column and delet the first column\n",
    "NewAll=pd.read_csv(path+'allstdscore.csv')\n",
    "NewAll.columns = NewAll.columns.astype(str)"
   ]
  },
  {
   "cell_type": "code",
   "execution_count": 44,
   "metadata": {
    "collapsed": false
   },
   "outputs": [
    {
     "data": {
      "text/html": [
       "<div>\n",
       "<table border=\"1\" class=\"dataframe\">\n",
       "  <thead>\n",
       "    <tr style=\"text-align: right;\">\n",
       "      <th></th>\n",
       "      <th>FileName</th>\n",
       "      <th>0</th>\n",
       "      <th>1</th>\n",
       "      <th>2</th>\n",
       "      <th>3</th>\n",
       "      <th>4</th>\n",
       "      <th>5</th>\n",
       "      <th>6</th>\n",
       "      <th>7</th>\n",
       "      <th>8</th>\n",
       "      <th>...</th>\n",
       "      <th>18</th>\n",
       "      <th>19</th>\n",
       "      <th>20</th>\n",
       "      <th>21</th>\n",
       "      <th>22</th>\n",
       "      <th>23</th>\n",
       "      <th>24</th>\n",
       "      <th>25</th>\n",
       "      <th>26</th>\n",
       "      <th>27</th>\n",
       "    </tr>\n",
       "  </thead>\n",
       "  <tbody>\n",
       "    <tr>\n",
       "      <th>0</th>\n",
       "      <td>03J.wav</td>\n",
       "      <td>0.534103</td>\n",
       "      <td>0.119948</td>\n",
       "      <td>0.892717</td>\n",
       "      <td>0.713974</td>\n",
       "      <td>0.448908</td>\n",
       "      <td>0.595151</td>\n",
       "      <td>0.505618</td>\n",
       "      <td>0.676772</td>\n",
       "      <td>0.378105</td>\n",
       "      <td>...</td>\n",
       "      <td>0.049758</td>\n",
       "      <td>0.026326</td>\n",
       "      <td>0.025489</td>\n",
       "      <td>0.027974</td>\n",
       "      <td>0.038102</td>\n",
       "      <td>0.037961</td>\n",
       "      <td>0.051714</td>\n",
       "      <td>0.049363</td>\n",
       "      <td>0.054282</td>\n",
       "      <td>0.067418</td>\n",
       "    </tr>\n",
       "    <tr>\n",
       "      <th>1</th>\n",
       "      <td>07L.wav</td>\n",
       "      <td>0.681662</td>\n",
       "      <td>0.317390</td>\n",
       "      <td>0.131678</td>\n",
       "      <td>0.720654</td>\n",
       "      <td>0.503279</td>\n",
       "      <td>0.571534</td>\n",
       "      <td>0.492099</td>\n",
       "      <td>0.654283</td>\n",
       "      <td>0.400897</td>\n",
       "      <td>...</td>\n",
       "      <td>0.062783</td>\n",
       "      <td>0.030241</td>\n",
       "      <td>0.029785</td>\n",
       "      <td>0.043068</td>\n",
       "      <td>0.058873</td>\n",
       "      <td>0.057672</td>\n",
       "      <td>0.096760</td>\n",
       "      <td>0.063362</td>\n",
       "      <td>0.081685</td>\n",
       "      <td>0.089802</td>\n",
       "    </tr>\n",
       "    <tr>\n",
       "      <th>2</th>\n",
       "      <td>0M8.wav</td>\n",
       "      <td>0.764563</td>\n",
       "      <td>0.274184</td>\n",
       "      <td>0.293659</td>\n",
       "      <td>0.757733</td>\n",
       "      <td>0.445074</td>\n",
       "      <td>0.632836</td>\n",
       "      <td>0.501671</td>\n",
       "      <td>0.767431</td>\n",
       "      <td>0.430402</td>\n",
       "      <td>...</td>\n",
       "      <td>0.146451</td>\n",
       "      <td>0.028565</td>\n",
       "      <td>0.026865</td>\n",
       "      <td>0.037498</td>\n",
       "      <td>0.058830</td>\n",
       "      <td>0.064907</td>\n",
       "      <td>0.091701</td>\n",
       "      <td>0.074951</td>\n",
       "      <td>0.059872</td>\n",
       "      <td>0.061053</td>\n",
       "    </tr>\n",
       "    <tr>\n",
       "      <th>3</th>\n",
       "      <td>0UB.wav</td>\n",
       "      <td>0.628819</td>\n",
       "      <td>0.384421</td>\n",
       "      <td>0.513525</td>\n",
       "      <td>0.768080</td>\n",
       "      <td>0.533338</td>\n",
       "      <td>0.616659</td>\n",
       "      <td>0.513200</td>\n",
       "      <td>0.730376</td>\n",
       "      <td>0.445957</td>\n",
       "      <td>...</td>\n",
       "      <td>0.100594</td>\n",
       "      <td>0.062772</td>\n",
       "      <td>0.050559</td>\n",
       "      <td>0.074634</td>\n",
       "      <td>0.070410</td>\n",
       "      <td>0.081935</td>\n",
       "      <td>0.117705</td>\n",
       "      <td>0.146539</td>\n",
       "      <td>0.129029</td>\n",
       "      <td>0.124808</td>\n",
       "    </tr>\n",
       "    <tr>\n",
       "      <th>4</th>\n",
       "      <td>0W9.wav</td>\n",
       "      <td>0.402282</td>\n",
       "      <td>0.020001</td>\n",
       "      <td>0.407166</td>\n",
       "      <td>0.756747</td>\n",
       "      <td>0.604956</td>\n",
       "      <td>0.595541</td>\n",
       "      <td>0.486649</td>\n",
       "      <td>0.547777</td>\n",
       "      <td>0.624267</td>\n",
       "      <td>...</td>\n",
       "      <td>0.105882</td>\n",
       "      <td>0.090564</td>\n",
       "      <td>0.060323</td>\n",
       "      <td>0.062509</td>\n",
       "      <td>0.090917</td>\n",
       "      <td>0.098685</td>\n",
       "      <td>0.117453</td>\n",
       "      <td>0.122942</td>\n",
       "      <td>0.101433</td>\n",
       "      <td>0.137708</td>\n",
       "    </tr>\n",
       "  </tbody>\n",
       "</table>\n",
       "<p>5 rows × 29 columns</p>\n",
       "</div>"
      ],
      "text/plain": [
       "  FileName         0         1         2         3         4         5  \\\n",
       "0  03J.wav  0.534103  0.119948  0.892717  0.713974  0.448908  0.595151   \n",
       "1  07L.wav  0.681662  0.317390  0.131678  0.720654  0.503279  0.571534   \n",
       "2  0M8.wav  0.764563  0.274184  0.293659  0.757733  0.445074  0.632836   \n",
       "3  0UB.wav  0.628819  0.384421  0.513525  0.768080  0.533338  0.616659   \n",
       "4  0W9.wav  0.402282  0.020001  0.407166  0.756747  0.604956  0.595541   \n",
       "\n",
       "          6         7         8    ...           18        19        20  \\\n",
       "0  0.505618  0.676772  0.378105    ...     0.049758  0.026326  0.025489   \n",
       "1  0.492099  0.654283  0.400897    ...     0.062783  0.030241  0.029785   \n",
       "2  0.501671  0.767431  0.430402    ...     0.146451  0.028565  0.026865   \n",
       "3  0.513200  0.730376  0.445957    ...     0.100594  0.062772  0.050559   \n",
       "4  0.486649  0.547777  0.624267    ...     0.105882  0.090564  0.060323   \n",
       "\n",
       "         21        22        23        24        25        26        27  \n",
       "0  0.027974  0.038102  0.037961  0.051714  0.049363  0.054282  0.067418  \n",
       "1  0.043068  0.058873  0.057672  0.096760  0.063362  0.081685  0.089802  \n",
       "2  0.037498  0.058830  0.064907  0.091701  0.074951  0.059872  0.061053  \n",
       "3  0.074634  0.070410  0.081935  0.117705  0.146539  0.129029  0.124808  \n",
       "4  0.062509  0.090917  0.098685  0.117453  0.122942  0.101433  0.137708  \n",
       "\n",
       "[5 rows x 29 columns]"
      ]
     },
     "execution_count": 44,
     "metadata": {},
     "output_type": "execute_result"
    }
   ],
   "source": [
    "NewAll.head()"
   ]
  },
  {
   "cell_type": "markdown",
   "metadata": {},
   "source": [
    "# Merger the same files name"
   ]
  },
  {
   "cell_type": "code",
   "execution_count": 45,
   "metadata": {
    "collapsed": true
   },
   "outputs": [],
   "source": [
    "merged = pd.merge(TrainLabel,NewAll,left_on='File',right_on='FileName')\n",
    "M=merged"
   ]
  },
  {
   "cell_type": "code",
   "execution_count": 46,
   "metadata": {
    "collapsed": false
   },
   "outputs": [
    {
     "data": {
      "text/html": [
       "<div>\n",
       "<table border=\"1\" class=\"dataframe\">\n",
       "  <thead>\n",
       "    <tr style=\"text-align: right;\">\n",
       "      <th></th>\n",
       "      <th>Category</th>\n",
       "      <th>Event</th>\n",
       "      <th>File</th>\n",
       "      <th>FileName</th>\n",
       "      <th>0</th>\n",
       "      <th>1</th>\n",
       "      <th>2</th>\n",
       "      <th>3</th>\n",
       "      <th>4</th>\n",
       "      <th>5</th>\n",
       "      <th>...</th>\n",
       "      <th>18</th>\n",
       "      <th>19</th>\n",
       "      <th>20</th>\n",
       "      <th>21</th>\n",
       "      <th>22</th>\n",
       "      <th>23</th>\n",
       "      <th>24</th>\n",
       "      <th>25</th>\n",
       "      <th>26</th>\n",
       "      <th>27</th>\n",
       "    </tr>\n",
       "  </thead>\n",
       "  <tbody>\n",
       "    <tr>\n",
       "      <th>0</th>\n",
       "      <td>Effects</td>\n",
       "      <td>Beep</td>\n",
       "      <td>TN7.wav</td>\n",
       "      <td>TN7.wav</td>\n",
       "      <td>0.673079</td>\n",
       "      <td>0.098229</td>\n",
       "      <td>0.375247</td>\n",
       "      <td>0.791839</td>\n",
       "      <td>0.404122</td>\n",
       "      <td>0.226550</td>\n",
       "      <td>...</td>\n",
       "      <td>0.110271</td>\n",
       "      <td>0.348035</td>\n",
       "      <td>0.065274</td>\n",
       "      <td>0.058471</td>\n",
       "      <td>0.075210</td>\n",
       "      <td>0.306330</td>\n",
       "      <td>0.172177</td>\n",
       "      <td>0.176376</td>\n",
       "      <td>0.305487</td>\n",
       "      <td>0.143139</td>\n",
       "    </tr>\n",
       "    <tr>\n",
       "      <th>1</th>\n",
       "      <td>Effects</td>\n",
       "      <td>Beep</td>\n",
       "      <td>RTS.wav</td>\n",
       "      <td>RTS.wav</td>\n",
       "      <td>0.614813</td>\n",
       "      <td>0.295177</td>\n",
       "      <td>0.373146</td>\n",
       "      <td>0.761832</td>\n",
       "      <td>0.472383</td>\n",
       "      <td>0.447588</td>\n",
       "      <td>...</td>\n",
       "      <td>0.064446</td>\n",
       "      <td>0.039347</td>\n",
       "      <td>0.030562</td>\n",
       "      <td>0.052972</td>\n",
       "      <td>0.109096</td>\n",
       "      <td>0.068888</td>\n",
       "      <td>0.085426</td>\n",
       "      <td>0.102243</td>\n",
       "      <td>0.131408</td>\n",
       "      <td>0.626913</td>\n",
       "    </tr>\n",
       "    <tr>\n",
       "      <th>2</th>\n",
       "      <td>Effects</td>\n",
       "      <td>Beep</td>\n",
       "      <td>NUO.wav</td>\n",
       "      <td>NUO.wav</td>\n",
       "      <td>0.641462</td>\n",
       "      <td>0.311208</td>\n",
       "      <td>0.285988</td>\n",
       "      <td>0.604421</td>\n",
       "      <td>0.341296</td>\n",
       "      <td>0.707173</td>\n",
       "      <td>...</td>\n",
       "      <td>0.031808</td>\n",
       "      <td>0.011694</td>\n",
       "      <td>0.011562</td>\n",
       "      <td>0.012332</td>\n",
       "      <td>0.013816</td>\n",
       "      <td>0.016165</td>\n",
       "      <td>0.023563</td>\n",
       "      <td>0.022902</td>\n",
       "      <td>0.015057</td>\n",
       "      <td>0.019551</td>\n",
       "    </tr>\n",
       "    <tr>\n",
       "      <th>3</th>\n",
       "      <td>Effects</td>\n",
       "      <td>Beep</td>\n",
       "      <td>CPU.wav</td>\n",
       "      <td>CPU.wav</td>\n",
       "      <td>0.500055</td>\n",
       "      <td>0.063915</td>\n",
       "      <td>0.247723</td>\n",
       "      <td>0.680380</td>\n",
       "      <td>0.604663</td>\n",
       "      <td>0.455493</td>\n",
       "      <td>...</td>\n",
       "      <td>0.028421</td>\n",
       "      <td>0.029188</td>\n",
       "      <td>0.041799</td>\n",
       "      <td>0.135779</td>\n",
       "      <td>0.261494</td>\n",
       "      <td>0.097300</td>\n",
       "      <td>0.092645</td>\n",
       "      <td>0.229316</td>\n",
       "      <td>0.064318</td>\n",
       "      <td>0.056040</td>\n",
       "    </tr>\n",
       "    <tr>\n",
       "      <th>4</th>\n",
       "      <td>Effects</td>\n",
       "      <td>Beep</td>\n",
       "      <td>SB2.wav</td>\n",
       "      <td>SB2.wav</td>\n",
       "      <td>0.982776</td>\n",
       "      <td>0.576084</td>\n",
       "      <td>0.123782</td>\n",
       "      <td>0.528756</td>\n",
       "      <td>0.735243</td>\n",
       "      <td>0.550403</td>\n",
       "      <td>...</td>\n",
       "      <td>0.049353</td>\n",
       "      <td>0.014900</td>\n",
       "      <td>0.010943</td>\n",
       "      <td>0.010131</td>\n",
       "      <td>0.010621</td>\n",
       "      <td>0.022637</td>\n",
       "      <td>0.454293</td>\n",
       "      <td>0.043626</td>\n",
       "      <td>0.036094</td>\n",
       "      <td>0.049567</td>\n",
       "    </tr>\n",
       "  </tbody>\n",
       "</table>\n",
       "<p>5 rows × 32 columns</p>\n",
       "</div>"
      ],
      "text/plain": [
       "  Category Event     File FileName         0         1         2         3  \\\n",
       "0  Effects  Beep  TN7.wav  TN7.wav  0.673079  0.098229  0.375247  0.791839   \n",
       "1  Effects  Beep  RTS.wav  RTS.wav  0.614813  0.295177  0.373146  0.761832   \n",
       "2  Effects  Beep  NUO.wav  NUO.wav  0.641462  0.311208  0.285988  0.604421   \n",
       "3  Effects  Beep  CPU.wav  CPU.wav  0.500055  0.063915  0.247723  0.680380   \n",
       "4  Effects  Beep  SB2.wav  SB2.wav  0.982776  0.576084  0.123782  0.528756   \n",
       "\n",
       "          4         5    ...           18        19        20        21  \\\n",
       "0  0.404122  0.226550    ...     0.110271  0.348035  0.065274  0.058471   \n",
       "1  0.472383  0.447588    ...     0.064446  0.039347  0.030562  0.052972   \n",
       "2  0.341296  0.707173    ...     0.031808  0.011694  0.011562  0.012332   \n",
       "3  0.604663  0.455493    ...     0.028421  0.029188  0.041799  0.135779   \n",
       "4  0.735243  0.550403    ...     0.049353  0.014900  0.010943  0.010131   \n",
       "\n",
       "         22        23        24        25        26        27  \n",
       "0  0.075210  0.306330  0.172177  0.176376  0.305487  0.143139  \n",
       "1  0.109096  0.068888  0.085426  0.102243  0.131408  0.626913  \n",
       "2  0.013816  0.016165  0.023563  0.022902  0.015057  0.019551  \n",
       "3  0.261494  0.097300  0.092645  0.229316  0.064318  0.056040  \n",
       "4  0.010621  0.022637  0.454293  0.043626  0.036094  0.049567  \n",
       "\n",
       "[5 rows x 32 columns]"
      ]
     },
     "execution_count": 46,
     "metadata": {},
     "output_type": "execute_result"
    }
   ],
   "source": [
    "merged.head()"
   ]
  },
  {
   "cell_type": "code",
   "execution_count": 47,
   "metadata": {
    "collapsed": true
   },
   "outputs": [],
   "source": [
    "# newwriter = pd.ExcelWriter('merged.xlsx')\n",
    "# merged.to_excel(newwriter,'Sheet1')\n",
    "# newwriter.save()"
   ]
  },
  {
   "cell_type": "markdown",
   "metadata": {},
   "source": [
    "# Categorical name to discrete number"
   ]
  },
  {
   "cell_type": "code",
   "execution_count": 48,
   "metadata": {
    "collapsed": false
   },
   "outputs": [
    {
     "data": {
      "text/html": [
       "<div>\n",
       "<table border=\"1\" class=\"dataframe\">\n",
       "  <thead>\n",
       "    <tr style=\"text-align: right;\">\n",
       "      <th></th>\n",
       "      <th>Category</th>\n",
       "      <th>Event</th>\n",
       "      <th>File</th>\n",
       "      <th>FileName</th>\n",
       "      <th>0</th>\n",
       "      <th>1</th>\n",
       "      <th>2</th>\n",
       "      <th>3</th>\n",
       "      <th>4</th>\n",
       "      <th>5</th>\n",
       "      <th>...</th>\n",
       "      <th>19</th>\n",
       "      <th>20</th>\n",
       "      <th>21</th>\n",
       "      <th>22</th>\n",
       "      <th>23</th>\n",
       "      <th>24</th>\n",
       "      <th>25</th>\n",
       "      <th>26</th>\n",
       "      <th>27</th>\n",
       "      <th>labelumn</th>\n",
       "    </tr>\n",
       "  </thead>\n",
       "  <tbody>\n",
       "    <tr>\n",
       "      <th>0</th>\n",
       "      <td>Effects</td>\n",
       "      <td>Beep</td>\n",
       "      <td>TN7.wav</td>\n",
       "      <td>TN7.wav</td>\n",
       "      <td>0.673079</td>\n",
       "      <td>0.098229</td>\n",
       "      <td>0.375247</td>\n",
       "      <td>0.791839</td>\n",
       "      <td>0.404122</td>\n",
       "      <td>0.226550</td>\n",
       "      <td>...</td>\n",
       "      <td>0.348035</td>\n",
       "      <td>0.065274</td>\n",
       "      <td>0.058471</td>\n",
       "      <td>0.075210</td>\n",
       "      <td>0.306330</td>\n",
       "      <td>0.172177</td>\n",
       "      <td>0.176376</td>\n",
       "      <td>0.305487</td>\n",
       "      <td>0.143139</td>\n",
       "      <td>1</td>\n",
       "    </tr>\n",
       "    <tr>\n",
       "      <th>1</th>\n",
       "      <td>Effects</td>\n",
       "      <td>Beep</td>\n",
       "      <td>RTS.wav</td>\n",
       "      <td>RTS.wav</td>\n",
       "      <td>0.614813</td>\n",
       "      <td>0.295177</td>\n",
       "      <td>0.373146</td>\n",
       "      <td>0.761832</td>\n",
       "      <td>0.472383</td>\n",
       "      <td>0.447588</td>\n",
       "      <td>...</td>\n",
       "      <td>0.039347</td>\n",
       "      <td>0.030562</td>\n",
       "      <td>0.052972</td>\n",
       "      <td>0.109096</td>\n",
       "      <td>0.068888</td>\n",
       "      <td>0.085426</td>\n",
       "      <td>0.102243</td>\n",
       "      <td>0.131408</td>\n",
       "      <td>0.626913</td>\n",
       "      <td>1</td>\n",
       "    </tr>\n",
       "    <tr>\n",
       "      <th>2</th>\n",
       "      <td>Effects</td>\n",
       "      <td>Beep</td>\n",
       "      <td>NUO.wav</td>\n",
       "      <td>NUO.wav</td>\n",
       "      <td>0.641462</td>\n",
       "      <td>0.311208</td>\n",
       "      <td>0.285988</td>\n",
       "      <td>0.604421</td>\n",
       "      <td>0.341296</td>\n",
       "      <td>0.707173</td>\n",
       "      <td>...</td>\n",
       "      <td>0.011694</td>\n",
       "      <td>0.011562</td>\n",
       "      <td>0.012332</td>\n",
       "      <td>0.013816</td>\n",
       "      <td>0.016165</td>\n",
       "      <td>0.023563</td>\n",
       "      <td>0.022902</td>\n",
       "      <td>0.015057</td>\n",
       "      <td>0.019551</td>\n",
       "      <td>1</td>\n",
       "    </tr>\n",
       "    <tr>\n",
       "      <th>3</th>\n",
       "      <td>Effects</td>\n",
       "      <td>Beep</td>\n",
       "      <td>CPU.wav</td>\n",
       "      <td>CPU.wav</td>\n",
       "      <td>0.500055</td>\n",
       "      <td>0.063915</td>\n",
       "      <td>0.247723</td>\n",
       "      <td>0.680380</td>\n",
       "      <td>0.604663</td>\n",
       "      <td>0.455493</td>\n",
       "      <td>...</td>\n",
       "      <td>0.029188</td>\n",
       "      <td>0.041799</td>\n",
       "      <td>0.135779</td>\n",
       "      <td>0.261494</td>\n",
       "      <td>0.097300</td>\n",
       "      <td>0.092645</td>\n",
       "      <td>0.229316</td>\n",
       "      <td>0.064318</td>\n",
       "      <td>0.056040</td>\n",
       "      <td>1</td>\n",
       "    </tr>\n",
       "    <tr>\n",
       "      <th>4</th>\n",
       "      <td>Effects</td>\n",
       "      <td>Beep</td>\n",
       "      <td>SB2.wav</td>\n",
       "      <td>SB2.wav</td>\n",
       "      <td>0.982776</td>\n",
       "      <td>0.576084</td>\n",
       "      <td>0.123782</td>\n",
       "      <td>0.528756</td>\n",
       "      <td>0.735243</td>\n",
       "      <td>0.550403</td>\n",
       "      <td>...</td>\n",
       "      <td>0.014900</td>\n",
       "      <td>0.010943</td>\n",
       "      <td>0.010131</td>\n",
       "      <td>0.010621</td>\n",
       "      <td>0.022637</td>\n",
       "      <td>0.454293</td>\n",
       "      <td>0.043626</td>\n",
       "      <td>0.036094</td>\n",
       "      <td>0.049567</td>\n",
       "      <td>1</td>\n",
       "    </tr>\n",
       "  </tbody>\n",
       "</table>\n",
       "<p>5 rows × 33 columns</p>\n",
       "</div>"
      ],
      "text/plain": [
       "  Category Event     File FileName         0         1         2         3  \\\n",
       "0  Effects  Beep  TN7.wav  TN7.wav  0.673079  0.098229  0.375247  0.791839   \n",
       "1  Effects  Beep  RTS.wav  RTS.wav  0.614813  0.295177  0.373146  0.761832   \n",
       "2  Effects  Beep  NUO.wav  NUO.wav  0.641462  0.311208  0.285988  0.604421   \n",
       "3  Effects  Beep  CPU.wav  CPU.wav  0.500055  0.063915  0.247723  0.680380   \n",
       "4  Effects  Beep  SB2.wav  SB2.wav  0.982776  0.576084  0.123782  0.528756   \n",
       "\n",
       "          4         5    ...           19        20        21        22  \\\n",
       "0  0.404122  0.226550    ...     0.348035  0.065274  0.058471  0.075210   \n",
       "1  0.472383  0.447588    ...     0.039347  0.030562  0.052972  0.109096   \n",
       "2  0.341296  0.707173    ...     0.011694  0.011562  0.012332  0.013816   \n",
       "3  0.604663  0.455493    ...     0.029188  0.041799  0.135779  0.261494   \n",
       "4  0.735243  0.550403    ...     0.014900  0.010943  0.010131  0.010621   \n",
       "\n",
       "         23        24        25        26        27  labelumn  \n",
       "0  0.306330  0.172177  0.176376  0.305487  0.143139         1  \n",
       "1  0.068888  0.085426  0.102243  0.131408  0.626913         1  \n",
       "2  0.016165  0.023563  0.022902  0.015057  0.019551         1  \n",
       "3  0.097300  0.092645  0.229316  0.064318  0.056040         1  \n",
       "4  0.022637  0.454293  0.043626  0.036094  0.049567         1  \n",
       "\n",
       "[5 rows x 33 columns]"
      ]
     },
     "execution_count": 48,
     "metadata": {},
     "output_type": "execute_result"
    }
   ],
   "source": [
    "M['labelumn'] = pd.factorize(M['Category'], sort=True)[0] + 1\n",
    "M.head()"
   ]
  },
  {
   "cell_type": "markdown",
   "metadata": {},
   "source": [
    "# Separate Features and class labels"
   ]
  },
  {
   "cell_type": "code",
   "execution_count": 49,
   "metadata": {
    "collapsed": false
   },
   "outputs": [],
   "source": [
    "Features=merged.iloc[:,4:32]\n",
    "labels=merged.iloc[:,0]\n",
    "#labels.head()"
   ]
  },
  {
   "cell_type": "code",
   "execution_count": 50,
   "metadata": {
    "collapsed": false
   },
   "outputs": [
    {
     "data": {
      "text/plain": [
       "(array(['Effects', 'Human', 'Music', 'Nature', 'Urban'], dtype=object),\n",
       " array([62, 57, 56, 77, 48], dtype=int64))"
      ]
     },
     "execution_count": 50,
     "metadata": {},
     "output_type": "execute_result"
    }
   ],
   "source": [
    "X_train, X_test, y_train, y_test = train_test_split(Features,labels, test_size=.20, random_state=40) \n",
    "np.unique(y_test,return_counts=True)"
   ]
  },
  {
   "cell_type": "code",
   "execution_count": 51,
   "metadata": {
    "collapsed": false
   },
   "outputs": [
    {
     "data": {
      "text/plain": [
       "pandas.core.series.Series"
      ]
     },
     "execution_count": 51,
     "metadata": {},
     "output_type": "execute_result"
    }
   ],
   "source": [
    "type(y_test)"
   ]
  },
  {
   "cell_type": "code",
   "execution_count": 52,
   "metadata": {
    "collapsed": false
   },
   "outputs": [
    {
     "data": {
      "text/plain": [
       "1044    Nature\n",
       "1150    Nature\n",
       "771      Music\n",
       "1171    Nature\n",
       "621      Music\n",
       "Name: Category, dtype: object"
      ]
     },
     "execution_count": 52,
     "metadata": {},
     "output_type": "execute_result"
    }
   ],
   "source": [
    "y_test.head()"
   ]
  },
  {
   "cell_type": "code",
   "execution_count": 53,
   "metadata": {
    "collapsed": false
   },
   "outputs": [],
   "source": [
    "# cv=5\n",
    "# from sklearn.model_selection import GridSearchCV\n",
    "# parameters = {'kernel':('linear', 'rbf','poly'), 'C':[1, 10,100],'gamma':[0.01,.002]}\n",
    "# svc = svm.SVC()\n",
    "# clf = GridSearchCV(svc, parameters,cv=cv)\n",
    "# clf.fit(X_train, y_train)"
   ]
  },
  {
   "cell_type": "code",
   "execution_count": 54,
   "metadata": {
    "collapsed": false
   },
   "outputs": [],
   "source": [
    "# from sklearn.tree import DecisionTreeClassifier\n",
    "# dtree_model = DecisionTreeClassifier(max_depth = 2).fit(X_train, y_train)\n",
    "# dtree_predictions = dtree_model.predict(X_test)\n",
    "# #accuracy=dtree_predictions.score(X_test, y_test)"
   ]
  },
  {
   "cell_type": "markdown",
   "metadata": {
    "collapsed": true
   },
   "source": [
    "# Training a DescisionTreeClassifier [link](https://www.geeksforgeeks.org/multiclass-classification-using-scikit-learn/)"
   ]
  },
  {
   "cell_type": "markdown",
   "metadata": {},
   "source": [
    "# Decision tree"
   ]
  },
  {
   "cell_type": "code",
   "execution_count": 55,
   "metadata": {
    "collapsed": false
   },
   "outputs": [
    {
     "data": {
      "text/plain": [
       "0.00082644628099173552"
      ]
     },
     "execution_count": 55,
     "metadata": {},
     "output_type": "execute_result"
    }
   ],
   "source": [
    "from sklearn.tree import DecisionTreeClassifier\n",
    "clf = DecisionTreeClassifier(random_state=42)\n",
    "dtree_model=clf.fit(X_train,y_train)\n",
    "dtree_predictions=dtree_model.predict(X_test)\n",
    "#cross_val_score(clf, Features, labels, cv=10)\n",
    "score=cross_val_score(clf, X_train, y_train, cv=5)\n",
    "# Mean score\n",
    "score.mean()"
   ]
  },
  {
   "cell_type": "markdown",
   "metadata": {},
   "source": [
    "# Confusion matrix and accuracy of DT"
   ]
  },
  {
   "cell_type": "code",
   "execution_count": 56,
   "metadata": {
    "collapsed": false
   },
   "outputs": [],
   "source": [
    "# cm = confusion_matrix(y_test, dtree_predictions)\n",
    "# cm"
   ]
  },
  {
   "cell_type": "code",
   "execution_count": 57,
   "metadata": {
    "collapsed": false
   },
   "outputs": [],
   "source": [
    "# acctre=accuracy_score(y_test, dtree_predictions)\n",
    "# print(\"The accucracy of DT is %2f:\" % acctre)"
   ]
  },
  {
   "cell_type": "markdown",
   "metadata": {
    "collapsed": false
   },
   "source": [
    "# SVM classifier"
   ]
  },
  {
   "cell_type": "code",
   "execution_count": 58,
   "metadata": {
    "collapsed": false
   },
   "outputs": [
    {
     "data": {
      "text/plain": [
       "array([ 0.15289256,  0.1446281 ,  0.12033195,  0.18067227,  0.14345992])"
      ]
     },
     "execution_count": 58,
     "metadata": {},
     "output_type": "execute_result"
    }
   ],
   "source": [
    "clf = svm.SVC(kernel='linear', C=5)\n",
    "scores = cross_val_score(clf, X_train, y_train, cv=5)\n",
    "scores"
   ]
  },
  {
   "cell_type": "markdown",
   "metadata": {},
   "source": [
    "# Average accuracy"
   ]
  },
  {
   "cell_type": "code",
   "execution_count": 59,
   "metadata": {
    "collapsed": false
   },
   "outputs": [
    {
     "name": "stdout",
     "output_type": "stream",
     "text": [
      "Accuracy:0.148 (+/-0.039)\n"
     ]
    }
   ],
   "source": [
    "print(\"Accuracy:%0.3f (+/-%0.3f)\" %(scores.mean(), scores.std()*2))"
   ]
  },
  {
   "cell_type": "markdown",
   "metadata": {},
   "source": [
    "# ShuffleSplit (Other Cross-validation)"
   ]
  },
  {
   "cell_type": "code",
   "execution_count": 60,
   "metadata": {
    "collapsed": false
   },
   "outputs": [
    {
     "data": {
      "text/plain": [
       "array([ 0.15111111,  0.11555556,  0.12666667,  0.12888889,  0.12      ])"
      ]
     },
     "execution_count": 60,
     "metadata": {},
     "output_type": "execute_result"
    }
   ],
   "source": [
    "from sklearn.model_selection import ShuffleSplit\n",
    "cv = ShuffleSplit(n_splits=5, test_size=0.3, random_state=0)\n",
    "cr=cross_val_score(clf, Features, labels, cv=cv)\n",
    "cr"
   ]
  },
  {
   "cell_type": "markdown",
   "metadata": {},
   "source": [
    "# Average Accuracy for shuffle split"
   ]
  },
  {
   "cell_type": "code",
   "execution_count": 61,
   "metadata": {
    "collapsed": false
   },
   "outputs": [
    {
     "name": "stdout",
     "output_type": "stream",
     "text": [
      "Accuracy:0.128 (+/-0.025)\n"
     ]
    }
   ],
   "source": [
    "print(\"Accuracy:%0.3f (+/-%0.3f)\" %(cr.mean(), cr.std()*2))"
   ]
  },
  {
   "cell_type": "markdown",
   "metadata": {},
   "source": [
    "# Gridserach CV"
   ]
  },
  {
   "cell_type": "code",
   "execution_count": 62,
   "metadata": {
    "collapsed": false
   },
   "outputs": [
    {
     "data": {
      "text/plain": [
       "GridSearchCV(cv=ShuffleSplit(n_splits=5, random_state=0, test_size=0.3, train_size=None),\n",
       "       error_score='raise',\n",
       "       estimator=SVC(C=1.0, cache_size=200, class_weight=None, coef0=0.0,\n",
       "  decision_function_shape=None, degree=3, gamma='auto', kernel='rbf',\n",
       "  max_iter=-1, probability=False, random_state=None, shrinking=True,\n",
       "  tol=0.001, verbose=False),\n",
       "       fit_params={}, iid=True, n_jobs=1,\n",
       "       param_grid={'kernel': ('linear', 'rbf', 'poly', 'sigmoid'), 'C': [1, 10, 100], 'gamma': [0.01, 0.002]},\n",
       "       pre_dispatch='2*n_jobs', refit=True, return_train_score=True,\n",
       "       scoring=None, verbose=0)"
      ]
     },
     "execution_count": 62,
     "metadata": {},
     "output_type": "execute_result"
    }
   ],
   "source": [
    "cv = ShuffleSplit(n_splits=5, test_size=0.3, random_state=0)\n",
    "parameters = {'kernel':('linear', 'rbf','poly','sigmoid'), 'C':[1, 10,100],'gamma':[0.01,.002]}\n",
    "svc = svm.SVC()\n",
    "clf = GridSearchCV(svc, parameters,cv=cv)\n",
    "clf.fit(Features, labels)"
   ]
  },
  {
   "cell_type": "markdown",
   "metadata": {},
   "source": [
    "# Find the score"
   ]
  },
  {
   "cell_type": "code",
   "execution_count": 63,
   "metadata": {
    "collapsed": false
   },
   "outputs": [
    {
     "data": {
      "text/plain": [
       "array([ 0.13733333,  0.17822222,  0.17911111,  0.17822222,  0.13733333,\n",
       "        0.17822222,  0.17911111,  0.17822222,  0.12311111,  0.16933333,\n",
       "        0.17911111,  0.176     ,  0.12311111,  0.17822222,  0.17911111,\n",
       "        0.17822222,  0.12177778,  0.13244444,  0.17911111,  0.13688889,\n",
       "        0.12177778,  0.15777778,  0.17911111,  0.16888889])"
      ]
     },
     "execution_count": 63,
     "metadata": {},
     "output_type": "execute_result"
    }
   ],
   "source": [
    "clf.cv_results_['mean_test_score']"
   ]
  },
  {
   "cell_type": "markdown",
   "metadata": {},
   "source": [
    "# Find the best parameters"
   ]
  },
  {
   "cell_type": "code",
   "execution_count": 64,
   "metadata": {
    "collapsed": false
   },
   "outputs": [
    {
     "data": {
      "text/plain": [
       "SVC(C=1, cache_size=200, class_weight=None, coef0=0.0,\n",
       "  decision_function_shape=None, degree=3, gamma=0.01, kernel='poly',\n",
       "  max_iter=-1, probability=False, random_state=None, shrinking=True,\n",
       "  tol=0.001, verbose=False)"
      ]
     },
     "execution_count": 64,
     "metadata": {},
     "output_type": "execute_result"
    }
   ],
   "source": [
    "clf.best_estimator_"
   ]
  },
  {
   "cell_type": "code",
   "execution_count": 65,
   "metadata": {
    "collapsed": false
   },
   "outputs": [
    {
     "name": "stdout",
     "output_type": "stream",
     "text": [
      "0.186666666667\n"
     ]
    }
   ],
   "source": [
    "acc=accuracy_score(clf.best_estimator_.predict(X_test),y_test)\n",
    "print acc"
   ]
  },
  {
   "cell_type": "code",
   "execution_count": 66,
   "metadata": {
    "collapsed": false
   },
   "outputs": [],
   "source": [
    "#sorted(clf.cv_results_.keys())"
   ]
  },
  {
   "cell_type": "code",
   "execution_count": 67,
   "metadata": {
    "collapsed": false
   },
   "outputs": [],
   "source": [
    "#clf.cv_results_"
   ]
  },
  {
   "cell_type": "markdown",
   "metadata": {},
   "source": [
    "# Confusion Matrix"
   ]
  },
  {
   "cell_type": "code",
   "execution_count": 68,
   "metadata": {
    "collapsed": false
   },
   "outputs": [],
   "source": [
    "# pred=clf.best_estimator_.predict(X_test)\n",
    "# conf_mat=confusion_matrix(y_test,pred)\n",
    "# #conf_mat\n",
    "# # conf_mat=confusion_matrix(y_test,pred)\n",
    "# conf_mat"
   ]
  },
  {
   "cell_type": "code",
   "execution_count": 69,
   "metadata": {
    "collapsed": false
   },
   "outputs": [
    {
     "data": {
      "text/html": [
       "<div>\n",
       "<table border=\"1\" class=\"dataframe\">\n",
       "  <thead>\n",
       "    <tr style=\"text-align: right;\">\n",
       "      <th></th>\n",
       "      <th>Predict Effects</th>\n",
       "      <th>Predict Human</th>\n",
       "      <th>Predict Music</th>\n",
       "      <th>Predict Nature</th>\n",
       "      <th>Predict Urban</th>\n",
       "    </tr>\n",
       "  </thead>\n",
       "  <tbody>\n",
       "    <tr>\n",
       "      <th>True Effects</th>\n",
       "      <td>15</td>\n",
       "      <td>13</td>\n",
       "      <td>13</td>\n",
       "      <td>4</td>\n",
       "      <td>17</td>\n",
       "    </tr>\n",
       "    <tr>\n",
       "      <th>True Human</th>\n",
       "      <td>18</td>\n",
       "      <td>16</td>\n",
       "      <td>8</td>\n",
       "      <td>2</td>\n",
       "      <td>13</td>\n",
       "    </tr>\n",
       "    <tr>\n",
       "      <th>True Music</th>\n",
       "      <td>18</td>\n",
       "      <td>13</td>\n",
       "      <td>7</td>\n",
       "      <td>6</td>\n",
       "      <td>12</td>\n",
       "    </tr>\n",
       "    <tr>\n",
       "      <th>True Nature</th>\n",
       "      <td>22</td>\n",
       "      <td>17</td>\n",
       "      <td>11</td>\n",
       "      <td>11</td>\n",
       "      <td>16</td>\n",
       "    </tr>\n",
       "    <tr>\n",
       "      <th>True Urban</th>\n",
       "      <td>19</td>\n",
       "      <td>9</td>\n",
       "      <td>9</td>\n",
       "      <td>4</td>\n",
       "      <td>7</td>\n",
       "    </tr>\n",
       "  </tbody>\n",
       "</table>\n",
       "</div>"
      ],
      "text/plain": [
       "               Predict Effects  Predict Human  Predict Music  Predict Nature  \\\n",
       " True Effects               15             13             13               4   \n",
       "True Human                  18             16              8               2   \n",
       " True Music                 18             13              7               6   \n",
       " True Nature                22             17             11              11   \n",
       "True Urban                  19              9              9               4   \n",
       "\n",
       "               Predict Urban  \n",
       " True Effects             17  \n",
       "True Human                13  \n",
       " True Music               12  \n",
       " True Nature              16  \n",
       "True Urban                 7  "
      ]
     },
     "execution_count": 69,
     "metadata": {},
     "output_type": "execute_result"
    }
   ],
   "source": [
    "pred=clf.best_estimator_.predict(X_test)\n",
    "pd.DataFrame(\n",
    "    confusion_matrix(y_test, pred),\n",
    "    columns=['Predict Effects', 'Predict Human', 'Predict Music', 'Predict Nature', 'Predict Urban'],\n",
    "    index=[' True Effects', 'True Human', ' True Music', ' True Nature', 'True Urban'])"
   ]
  },
  {
   "cell_type": "code",
   "execution_count": 70,
   "metadata": {
    "collapsed": false
   },
   "outputs": [
    {
     "data": {
      "text/plain": [
       "(array(['Effects', 'Human', 'Music', 'Nature', 'Urban'], dtype=object),\n",
       " array([92, 68, 48, 27, 65], dtype=int64))"
      ]
     },
     "execution_count": 70,
     "metadata": {},
     "output_type": "execute_result"
    }
   ],
   "source": [
    "df=pd.DataFrame(pred)\n",
    "np.unique(df,return_counts=True)"
   ]
  },
  {
   "cell_type": "code",
   "execution_count": 71,
   "metadata": {
    "collapsed": false
   },
   "outputs": [
    {
     "data": {
      "text/plain": [
       "(array(['Effects', 'Human', 'Music', 'Nature', 'Urban'], dtype=object),\n",
       " array([62, 57, 56, 77, 48], dtype=int64))"
      ]
     },
     "execution_count": 71,
     "metadata": {},
     "output_type": "execute_result"
    }
   ],
   "source": [
    "np.unique(y_test,return_counts=True)"
   ]
  },
  {
   "cell_type": "code",
   "execution_count": 72,
   "metadata": {
    "collapsed": false
   },
   "outputs": [],
   "source": [
    "# cmap=plt.cm.RdBu\n",
    "# plt.imshow(cm, interpolation='nearest', cmap=cmap)"
   ]
  },
  {
   "cell_type": "markdown",
   "metadata": {
    "collapsed": true
   },
   "source": [
    "# Gaussian Naive Bayes"
   ]
  },
  {
   "cell_type": "code",
   "execution_count": 73,
   "metadata": {
    "collapsed": true
   },
   "outputs": [],
   "source": [
    "from sklearn.naive_bayes import GaussianNB\n",
    "gnb = GaussianNB()"
   ]
  },
  {
   "cell_type": "code",
   "execution_count": 74,
   "metadata": {
    "collapsed": false
   },
   "outputs": [],
   "source": [
    "y_pred=gnb.fit(X_train,y_train).predict(X_test)\n",
    "#y_pred.results"
   ]
  },
  {
   "cell_type": "code",
   "execution_count": 75,
   "metadata": {
    "collapsed": false
   },
   "outputs": [
    {
     "name": "stdout",
     "output_type": "stream",
     "text": [
      "Number of mislabeled points out of a total 300 points : 233\n"
     ]
    }
   ],
   "source": [
    "print(\"Number of mislabeled points out of a total %d points : %d\"\n",
    "      % (y_test.shape[0],(y_test != y_pred).sum()))"
   ]
  },
  {
   "cell_type": "code",
   "execution_count": 76,
   "metadata": {
    "collapsed": false
   },
   "outputs": [
    {
     "name": "stdout",
     "output_type": "stream",
     "text": [
      "Accuracy 22.333333\n"
     ]
    }
   ],
   "source": [
    "acc=(1-(y_test!= y_pred).sum()/300.0)*100\n",
    "print(\"Accuracy %f\" %acc)"
   ]
  },
  {
   "cell_type": "code",
   "execution_count": 77,
   "metadata": {
    "collapsed": false
   },
   "outputs": [
    {
     "data": {
      "text/plain": [
       "array([[ 5,  1,  2, 52,  2],\n",
       "       [11,  0,  0, 43,  3],\n",
       "       [10,  1,  0, 43,  2],\n",
       "       [ 9,  1,  4, 60,  3],\n",
       "       [ 7,  1,  4, 34,  2]])"
      ]
     },
     "execution_count": 77,
     "metadata": {},
     "output_type": "execute_result"
    }
   ],
   "source": [
    "conf_mat=confusion_matrix(y_test,y_pred)\n",
    "conf_mat"
   ]
  },
  {
   "cell_type": "code",
   "execution_count": 78,
   "metadata": {
    "collapsed": false
   },
   "outputs": [],
   "source": [
    "# (y_test!=y_pred).sum())"
   ]
  },
  {
   "cell_type": "markdown",
   "metadata": {
    "collapsed": false
   },
   "source": [
    "# Random Forest [link](https://www.codementor.io/agarrahul01/multiclass-classification-using-random-forest-on-scikit-learn-library-hkk4lwawu)"
   ]
  },
  {
   "cell_type": "code",
   "execution_count": 79,
   "metadata": {
    "collapsed": false
   },
   "outputs": [
    {
     "data": {
      "text/html": [
       "<div>\n",
       "<table border=\"1\" class=\"dataframe\">\n",
       "  <thead>\n",
       "    <tr style=\"text-align: right;\">\n",
       "      <th></th>\n",
       "      <th>0</th>\n",
       "      <th>1</th>\n",
       "      <th>2</th>\n",
       "      <th>3</th>\n",
       "      <th>4</th>\n",
       "      <th>5</th>\n",
       "      <th>6</th>\n",
       "      <th>7</th>\n",
       "      <th>8</th>\n",
       "      <th>9</th>\n",
       "      <th>...</th>\n",
       "      <th>18</th>\n",
       "      <th>19</th>\n",
       "      <th>20</th>\n",
       "      <th>21</th>\n",
       "      <th>22</th>\n",
       "      <th>23</th>\n",
       "      <th>24</th>\n",
       "      <th>25</th>\n",
       "      <th>26</th>\n",
       "      <th>27</th>\n",
       "    </tr>\n",
       "  </thead>\n",
       "  <tbody>\n",
       "    <tr>\n",
       "      <th>1000</th>\n",
       "      <td>0.565927</td>\n",
       "      <td>0.062321</td>\n",
       "      <td>0.605505</td>\n",
       "      <td>0.757441</td>\n",
       "      <td>0.416050</td>\n",
       "      <td>0.137693</td>\n",
       "      <td>0.301277</td>\n",
       "      <td>0.492763</td>\n",
       "      <td>0.183344</td>\n",
       "      <td>0.494988</td>\n",
       "      <td>...</td>\n",
       "      <td>0.099967</td>\n",
       "      <td>0.060979</td>\n",
       "      <td>0.057405</td>\n",
       "      <td>0.113699</td>\n",
       "      <td>0.108173</td>\n",
       "      <td>0.120115</td>\n",
       "      <td>0.161687</td>\n",
       "      <td>0.175636</td>\n",
       "      <td>0.185065</td>\n",
       "      <td>0.170363</td>\n",
       "    </tr>\n",
       "    <tr>\n",
       "      <th>758</th>\n",
       "      <td>0.496948</td>\n",
       "      <td>0.060784</td>\n",
       "      <td>0.988192</td>\n",
       "      <td>0.626046</td>\n",
       "      <td>0.330987</td>\n",
       "      <td>0.530650</td>\n",
       "      <td>0.529727</td>\n",
       "      <td>0.587944</td>\n",
       "      <td>0.406455</td>\n",
       "      <td>0.620249</td>\n",
       "      <td>...</td>\n",
       "      <td>0.031683</td>\n",
       "      <td>0.008360</td>\n",
       "      <td>0.010567</td>\n",
       "      <td>0.012873</td>\n",
       "      <td>0.021534</td>\n",
       "      <td>0.025392</td>\n",
       "      <td>0.045471</td>\n",
       "      <td>0.053987</td>\n",
       "      <td>0.033033</td>\n",
       "      <td>0.036488</td>\n",
       "    </tr>\n",
       "    <tr>\n",
       "      <th>275</th>\n",
       "      <td>0.449015</td>\n",
       "      <td>0.024891</td>\n",
       "      <td>0.863819</td>\n",
       "      <td>0.594888</td>\n",
       "      <td>0.172614</td>\n",
       "      <td>0.554936</td>\n",
       "      <td>0.624290</td>\n",
       "      <td>0.657680</td>\n",
       "      <td>0.219736</td>\n",
       "      <td>0.687320</td>\n",
       "      <td>...</td>\n",
       "      <td>0.029948</td>\n",
       "      <td>0.008970</td>\n",
       "      <td>0.023883</td>\n",
       "      <td>0.020302</td>\n",
       "      <td>0.027263</td>\n",
       "      <td>0.077836</td>\n",
       "      <td>0.036178</td>\n",
       "      <td>0.105470</td>\n",
       "      <td>0.063213</td>\n",
       "      <td>0.028900</td>\n",
       "    </tr>\n",
       "    <tr>\n",
       "      <th>1374</th>\n",
       "      <td>0.710695</td>\n",
       "      <td>0.703165</td>\n",
       "      <td>0.337943</td>\n",
       "      <td>0.710753</td>\n",
       "      <td>0.347792</td>\n",
       "      <td>0.282751</td>\n",
       "      <td>0.693989</td>\n",
       "      <td>0.604293</td>\n",
       "      <td>0.289740</td>\n",
       "      <td>0.718021</td>\n",
       "      <td>...</td>\n",
       "      <td>0.112670</td>\n",
       "      <td>0.046146</td>\n",
       "      <td>0.244591</td>\n",
       "      <td>0.064841</td>\n",
       "      <td>0.317705</td>\n",
       "      <td>0.106215</td>\n",
       "      <td>0.270558</td>\n",
       "      <td>0.095962</td>\n",
       "      <td>0.166072</td>\n",
       "      <td>0.157131</td>\n",
       "    </tr>\n",
       "    <tr>\n",
       "      <th>169</th>\n",
       "      <td>0.743094</td>\n",
       "      <td>0.538332</td>\n",
       "      <td>0.757791</td>\n",
       "      <td>0.715021</td>\n",
       "      <td>0.355054</td>\n",
       "      <td>0.419846</td>\n",
       "      <td>0.506123</td>\n",
       "      <td>0.649879</td>\n",
       "      <td>0.478414</td>\n",
       "      <td>0.557658</td>\n",
       "      <td>...</td>\n",
       "      <td>0.105570</td>\n",
       "      <td>0.037983</td>\n",
       "      <td>0.032973</td>\n",
       "      <td>0.036718</td>\n",
       "      <td>0.041276</td>\n",
       "      <td>0.048738</td>\n",
       "      <td>0.067786</td>\n",
       "      <td>0.066048</td>\n",
       "      <td>0.088411</td>\n",
       "      <td>0.108770</td>\n",
       "    </tr>\n",
       "  </tbody>\n",
       "</table>\n",
       "<p>5 rows × 28 columns</p>\n",
       "</div>"
      ],
      "text/plain": [
       "             0         1         2         3         4         5         6  \\\n",
       "1000  0.565927  0.062321  0.605505  0.757441  0.416050  0.137693  0.301277   \n",
       "758   0.496948  0.060784  0.988192  0.626046  0.330987  0.530650  0.529727   \n",
       "275   0.449015  0.024891  0.863819  0.594888  0.172614  0.554936  0.624290   \n",
       "1374  0.710695  0.703165  0.337943  0.710753  0.347792  0.282751  0.693989   \n",
       "169   0.743094  0.538332  0.757791  0.715021  0.355054  0.419846  0.506123   \n",
       "\n",
       "             7         8         9    ...           18        19        20  \\\n",
       "1000  0.492763  0.183344  0.494988    ...     0.099967  0.060979  0.057405   \n",
       "758   0.587944  0.406455  0.620249    ...     0.031683  0.008360  0.010567   \n",
       "275   0.657680  0.219736  0.687320    ...     0.029948  0.008970  0.023883   \n",
       "1374  0.604293  0.289740  0.718021    ...     0.112670  0.046146  0.244591   \n",
       "169   0.649879  0.478414  0.557658    ...     0.105570  0.037983  0.032973   \n",
       "\n",
       "            21        22        23        24        25        26        27  \n",
       "1000  0.113699  0.108173  0.120115  0.161687  0.175636  0.185065  0.170363  \n",
       "758   0.012873  0.021534  0.025392  0.045471  0.053987  0.033033  0.036488  \n",
       "275   0.020302  0.027263  0.077836  0.036178  0.105470  0.063213  0.028900  \n",
       "1374  0.064841  0.317705  0.106215  0.270558  0.095962  0.166072  0.157131  \n",
       "169   0.036718  0.041276  0.048738  0.067786  0.066048  0.088411  0.108770  \n",
       "\n",
       "[5 rows x 28 columns]"
      ]
     },
     "execution_count": 79,
     "metadata": {},
     "output_type": "execute_result"
    }
   ],
   "source": [
    "X_train.head()"
   ]
  },
  {
   "cell_type": "markdown",
   "metadata": {},
   "source": [
    "# pd to numpy"
   ]
  },
  {
   "cell_type": "code",
   "execution_count": 80,
   "metadata": {
    "collapsed": false
   },
   "outputs": [
    {
     "name": "stdout",
     "output_type": "stream",
     "text": [
      "0    0\n",
      "1    0\n",
      "2    0\n",
      "3    0\n",
      "4    0\n",
      "Name: Category, dtype: int64\n",
      "Index([u'Effects', u'Human', u'Music', u'Nature', u'Urban'], dtype='object')\n"
     ]
    }
   ],
   "source": [
    "#Creating the dependent variable class\n",
    "factor = pd.factorize(M['Category'])\n",
    "M.Category = factor[0]\n",
    "definitions = factor[1]\n",
    "print(M.Category.head())\n",
    "print(definitions)"
   ]
  },
  {
   "cell_type": "code",
   "execution_count": 81,
   "metadata": {
    "collapsed": false
   },
   "outputs": [
    {
     "data": {
      "text/plain": [
       "RandomForestClassifier(bootstrap=True, class_weight=None, criterion='entropy',\n",
       "            max_depth=None, max_features='auto', max_leaf_nodes=None,\n",
       "            min_impurity_split=1e-07, min_samples_leaf=1,\n",
       "            min_samples_split=2, min_weight_fraction_leaf=0.0,\n",
       "            n_estimators=10, n_jobs=1, oob_score=False, random_state=42,\n",
       "            verbose=0, warm_start=False)"
      ]
     },
     "execution_count": 81,
     "metadata": {},
     "output_type": "execute_result"
    }
   ],
   "source": [
    "# Fitting Random Forest Classification to the Training set\n",
    "classifier = RandomForestClassifier(n_estimators = 10, criterion = 'entropy', random_state = 42)\n",
    "classifier.fit(X_train, y_train)"
   ]
  },
  {
   "cell_type": "code",
   "execution_count": 82,
   "metadata": {
    "collapsed": false
   },
   "outputs": [],
   "source": [
    "y_pred = classifier.predict(X_test)\n",
    "y1=y_test\n",
    "#print y1"
   ]
  },
  {
   "cell_type": "code",
   "execution_count": 83,
   "metadata": {
    "collapsed": false
   },
   "outputs": [
    {
     "name": "stdout",
     "output_type": "stream",
     "text": [
      "Predicted Species  Effects  Human  Music  Nature  Urban\n",
      "Actual Species                                         \n",
      "Effects                  0     18     15      16     13\n",
      "Human                   15      0     14      15     13\n",
      "Music                   19     11      0      14     12\n",
      "Nature                  24     24     18       0     11\n",
      "Urban                    7     11     18      12      0\n"
     ]
    }
   ],
   "source": [
    "print(pd.crosstab(y_test, y_pred, rownames=['Actual Species'], colnames=['Predicted Species']))"
   ]
  },
  {
   "cell_type": "code",
   "execution_count": 84,
   "metadata": {
    "collapsed": false
   },
   "outputs": [
    {
     "name": "stdout",
     "output_type": "stream",
     "text": [
      "Predicted Species  Effects  Human  Music  Nature  Urban\n",
      "Actual Species                                         \n",
      "Effects                  0     18     15      16     13\n",
      "Human                   15      0     14      15     13\n",
      "Music                   19     11      0      14     12\n",
      "Nature                  24     24     18       0     11\n",
      "Urban                    7     11     18      12      0\n"
     ]
    }
   ],
   "source": [
    "# Predicting the Test set results\n",
    "y_pred = classifier.predict(X_test)\n",
    "print(pd.crosstab(y_test, y_pred, rownames=['Actual Species'], colnames=['Predicted Species']))"
   ]
  },
  {
   "cell_type": "code",
   "execution_count": 85,
   "metadata": {
    "collapsed": false
   },
   "outputs": [
    {
     "data": {
      "text/plain": [
       "array([ 0.03782975,  0.0360923 ,  0.03902163,  0.0292145 ,  0.03483865,\n",
       "        0.03466608,  0.04199399,  0.0377297 ,  0.04498029,  0.04226971,\n",
       "        0.03805325,  0.04060423,  0.0498758 ,  0.04232317,  0.03425594,\n",
       "        0.03803361,  0.03004865,  0.03039045,  0.03211259,  0.02948754,\n",
       "        0.02908873,  0.03544394,  0.03318292,  0.03079016,  0.03367091,\n",
       "        0.02793858,  0.03320433,  0.03285861])"
      ]
     },
     "execution_count": 85,
     "metadata": {},
     "output_type": "execute_result"
    }
   ],
   "source": [
    "classifier.feature_importances_"
   ]
  },
  {
   "cell_type": "code",
   "execution_count": 86,
   "metadata": {
    "collapsed": false
   },
   "outputs": [],
   "source": [
    "# # Predicting the Test set results\n",
    "# y_pred = classifier.predict(X_test)\n",
    "# #Reverse factorize (converting y_pred from 0s,1s and 2s to Iris-setosa, Iris-versicolor and Iris-virginica\n",
    "# reversefactor = dict(zip(range(5),definitions))\n",
    "# y_test = np.vectorize(reversefactor.get)(y_test)\n",
    "# y_pred = np.vectorize(reversefactor.get)(y_pred)\n",
    "# # Making the Confusion Matrix\n",
    "# print(pd.crosstab(y_test, y_pred, rownames=['Actual Species'], colnames=['Predicted Species']))"
   ]
  }
 ],
 "metadata": {
  "kernelspec": {
   "display_name": "Python 2",
   "language": "python",
   "name": "python2"
  },
  "language_info": {
   "codemirror_mode": {
    "name": "ipython",
    "version": 2
   },
   "file_extension": ".py",
   "mimetype": "text/x-python",
   "name": "python",
   "nbconvert_exporter": "python",
   "pygments_lexer": "ipython2",
   "version": "2.7.13"
  }
 },
 "nbformat": 4,
 "nbformat_minor": 2
}
