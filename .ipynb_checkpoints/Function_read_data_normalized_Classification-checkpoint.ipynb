{
 "cells": [
  {
   "cell_type": "markdown",
   "metadata": {},
   "source": [
    "# Function to read the data from folder"
   ]
  },
  {
   "cell_type": "code",
   "execution_count": 1,
   "metadata": {
    "collapsed": false
   },
   "outputs": [],
   "source": [
    "import numpy as np\n",
    "import pandas as pd\n",
    "import matplotlib.pyplot as plt\n",
    "from sklearn import preprocessing\n",
    "from sklearn import svm, metrics\n",
    "from sklearn.model_selection import train_test_split, GridSearchCV\n",
    "from sklearn.metrics import accuracy_score,confusion_matrix,roc_curve, auc\n",
    "from matplotlib import pyplot as plt\n",
    "from collections import Counter\n",
    "from scipy.stats import norm, zscore\n",
    "import seaborn as sns; sns.set(font_scale=1.2)\n",
    "%matplotlib inline"
   ]
  },
  {
   "cell_type": "code",
   "execution_count": 2,
   "metadata": {
    "collapsed": false
   },
   "outputs": [],
   "source": [
    "def readnormalized(path, filename):\n",
    "    datafeatures=pd.read_csv(path+filename,header=None)\n",
    "    dfr=datafeatures[datafeatures.columns[0]]\n",
    "    df=datafeatures[datafeatures.columns[1:]]\n",
    "    dzs=df.apply(zscore)\n",
    "    #min_max_scaler = preprocessing.MinMaxScaler()\n",
    "    #scaled_array = min_max_scaler.fit_transform(df)\n",
    "    df_normalized = pd.DataFrame(dzs)\n",
    "    da=pd.concat([dfr, df_normalized],axis=1)\n",
    "    return da;"
   ]
  },
  {
   "cell_type": "code",
   "execution_count": 3,
   "metadata": {
    "collapsed": false
   },
   "outputs": [],
   "source": [
    "path='C:/Users/Sultan/OneDrive - The University of Memphis/RESEARCH2017S/Msos/ACA-Code-master/Features/';\n",
    "filename='Effects5Features.csv'\n",
    "eff=readnormalized(path, filename)\n",
    "hum=readnormalized(path,'Human5Features.csv')\n",
    "mus=readnormalized(path,'Music5Features.csv')\n",
    "nat=readnormalized(path,'Nature5Features.csv')\n",
    "urb=readnormalized(path,'Urban5Features.csv')"
   ]
  },
  {
   "cell_type": "code",
   "execution_count": 4,
   "metadata": {
    "collapsed": false
   },
   "outputs": [],
   "source": [
    "All=pd.concat([eff, hum,mus,nat,urb], axis=0)\n",
    "# eff.head()\n",
    "#type(All)"
   ]
  },
  {
   "cell_type": "code",
   "execution_count": null,
   "metadata": {
    "collapsed": false
   },
   "outputs": [],
   "source": [
    "All.head()"
   ]
  },
  {
   "cell_type": "markdown",
   "metadata": {},
   "source": [
    "# Write the Xls file"
   ]
  },
  {
   "cell_type": "code",
   "execution_count": 5,
   "metadata": {
    "collapsed": false
   },
   "outputs": [],
   "source": [
    "# writer = pd.ExcelWriter(path+'allzscore.xlsx')\n",
    "# All.to_excel(writer,'Sheet1')\n",
    "# writer.save()"
   ]
  },
  {
   "cell_type": "code",
   "execution_count": 6,
   "metadata": {
    "collapsed": false
   },
   "outputs": [],
   "source": [
    "TrainLabel=pd.read_csv(path+'Logsheet_Development.csv')\n",
    "# b=All[0].tail()\n",
    "#print TrainLabel \n",
    "#TrainLabel['File']"
   ]
  },
  {
   "cell_type": "markdown",
   "metadata": {},
   "source": [
    "# The below data need to concatenate into a file"
   ]
  },
  {
   "cell_type": "code",
   "execution_count": 7,
   "metadata": {
    "collapsed": false
   },
   "outputs": [],
   "source": [
    "#NewAll=pd.read_csv('all.csv')\n",
    "# First need to add a 'FileName' in the 2nd column and delet the first column\n",
    "NewAll=pd.read_csv(path+'allzscore.csv')\n",
    "NewAll.columns = NewAll.columns.astype(str)"
   ]
  },
  {
   "cell_type": "code",
   "execution_count": 8,
   "metadata": {
    "collapsed": false
   },
   "outputs": [
    {
     "data": {
      "text/html": [
       "<div>\n",
       "<table border=\"1\" class=\"dataframe\">\n",
       "  <thead>\n",
       "    <tr style=\"text-align: right;\">\n",
       "      <th></th>\n",
       "      <th>FileName</th>\n",
       "      <th>1</th>\n",
       "      <th>2</th>\n",
       "      <th>3</th>\n",
       "      <th>4</th>\n",
       "      <th>5</th>\n",
       "      <th>6</th>\n",
       "      <th>7</th>\n",
       "      <th>8</th>\n",
       "      <th>9</th>\n",
       "      <th>...</th>\n",
       "      <th>19</th>\n",
       "      <th>20</th>\n",
       "      <th>21</th>\n",
       "      <th>22</th>\n",
       "      <th>23</th>\n",
       "      <th>24</th>\n",
       "      <th>25</th>\n",
       "      <th>26</th>\n",
       "      <th>27</th>\n",
       "      <th>28</th>\n",
       "    </tr>\n",
       "  </thead>\n",
       "  <tbody>\n",
       "    <tr>\n",
       "      <th>0</th>\n",
       "      <td>03J.wav</td>\n",
       "      <td>-0.253767</td>\n",
       "      <td>-0.570028</td>\n",
       "      <td>1.569354</td>\n",
       "      <td>0.246321</td>\n",
       "      <td>-0.104473</td>\n",
       "      <td>0.468726</td>\n",
       "      <td>0.133977</td>\n",
       "      <td>-0.098509</td>\n",
       "      <td>-0.235818</td>\n",
       "      <td>...</td>\n",
       "      <td>-0.424627</td>\n",
       "      <td>-0.397054</td>\n",
       "      <td>-0.380810</td>\n",
       "      <td>-0.387917</td>\n",
       "      <td>-0.345363</td>\n",
       "      <td>-0.494849</td>\n",
       "      <td>-0.473409</td>\n",
       "      <td>-0.452014</td>\n",
       "      <td>-0.408440</td>\n",
       "      <td>-0.355506</td>\n",
       "    </tr>\n",
       "    <tr>\n",
       "      <th>1</th>\n",
       "      <td>07L.wav</td>\n",
       "      <td>0.493496</td>\n",
       "      <td>0.229284</td>\n",
       "      <td>-1.432952</td>\n",
       "      <td>0.294372</td>\n",
       "      <td>0.325935</td>\n",
       "      <td>0.335019</td>\n",
       "      <td>0.015511</td>\n",
       "      <td>-0.282397</td>\n",
       "      <td>-0.035257</td>\n",
       "      <td>...</td>\n",
       "      <td>-0.306916</td>\n",
       "      <td>-0.357002</td>\n",
       "      <td>-0.329687</td>\n",
       "      <td>-0.215241</td>\n",
       "      <td>-0.123965</td>\n",
       "      <td>-0.319397</td>\n",
       "      <td>-0.164818</td>\n",
       "      <td>-0.352013</td>\n",
       "      <td>-0.191533</td>\n",
       "      <td>-0.194256</td>\n",
       "    </tr>\n",
       "    <tr>\n",
       "      <th>2</th>\n",
       "      <td>0M8.wav</td>\n",
       "      <td>0.913320</td>\n",
       "      <td>0.054370</td>\n",
       "      <td>-0.793936</td>\n",
       "      <td>0.561064</td>\n",
       "      <td>-0.134824</td>\n",
       "      <td>0.682071</td>\n",
       "      <td>0.099388</td>\n",
       "      <td>0.642784</td>\n",
       "      <td>0.224363</td>\n",
       "      <td>...</td>\n",
       "      <td>0.449165</td>\n",
       "      <td>-0.374144</td>\n",
       "      <td>-0.364430</td>\n",
       "      <td>-0.278958</td>\n",
       "      <td>-0.124423</td>\n",
       "      <td>-0.254991</td>\n",
       "      <td>-0.199478</td>\n",
       "      <td>-0.269235</td>\n",
       "      <td>-0.364189</td>\n",
       "      <td>-0.401360</td>\n",
       "    </tr>\n",
       "    <tr>\n",
       "      <th>3</th>\n",
       "      <td>0UB.wav</td>\n",
       "      <td>0.225888</td>\n",
       "      <td>0.500648</td>\n",
       "      <td>0.073438</td>\n",
       "      <td>0.635488</td>\n",
       "      <td>0.563894</td>\n",
       "      <td>0.590488</td>\n",
       "      <td>0.200413</td>\n",
       "      <td>0.339793</td>\n",
       "      <td>0.361236</td>\n",
       "      <td>...</td>\n",
       "      <td>0.034770</td>\n",
       "      <td>-0.024222</td>\n",
       "      <td>-0.082471</td>\n",
       "      <td>0.145880</td>\n",
       "      <td>-0.001003</td>\n",
       "      <td>-0.103413</td>\n",
       "      <td>-0.021333</td>\n",
       "      <td>0.242127</td>\n",
       "      <td>0.183213</td>\n",
       "      <td>0.057923</td>\n",
       "    </tr>\n",
       "    <tr>\n",
       "      <th>4</th>\n",
       "      <td>0W9.wav</td>\n",
       "      <td>-0.921333</td>\n",
       "      <td>-0.974647</td>\n",
       "      <td>-0.346149</td>\n",
       "      <td>0.553977</td>\n",
       "      <td>1.130840</td>\n",
       "      <td>0.470933</td>\n",
       "      <td>-0.032249</td>\n",
       "      <td>-1.153277</td>\n",
       "      <td>1.930242</td>\n",
       "      <td>...</td>\n",
       "      <td>0.082553</td>\n",
       "      <td>0.260075</td>\n",
       "      <td>0.033727</td>\n",
       "      <td>0.007164</td>\n",
       "      <td>0.217574</td>\n",
       "      <td>0.045687</td>\n",
       "      <td>-0.023058</td>\n",
       "      <td>0.073570</td>\n",
       "      <td>-0.035216</td>\n",
       "      <td>0.150859</td>\n",
       "    </tr>\n",
       "  </tbody>\n",
       "</table>\n",
       "<p>5 rows × 29 columns</p>\n",
       "</div>"
      ],
      "text/plain": [
       "  FileName         1         2         3         4         5         6  \\\n",
       "0  03J.wav -0.253767 -0.570028  1.569354  0.246321 -0.104473  0.468726   \n",
       "1  07L.wav  0.493496  0.229284 -1.432952  0.294372  0.325935  0.335019   \n",
       "2  0M8.wav  0.913320  0.054370 -0.793936  0.561064 -0.134824  0.682071   \n",
       "3  0UB.wav  0.225888  0.500648  0.073438  0.635488  0.563894  0.590488   \n",
       "4  0W9.wav -0.921333 -0.974647 -0.346149  0.553977  1.130840  0.470933   \n",
       "\n",
       "          7         8         9    ...           19        20        21  \\\n",
       "0  0.133977 -0.098509 -0.235818    ...    -0.424627 -0.397054 -0.380810   \n",
       "1  0.015511 -0.282397 -0.035257    ...    -0.306916 -0.357002 -0.329687   \n",
       "2  0.099388  0.642784  0.224363    ...     0.449165 -0.374144 -0.364430   \n",
       "3  0.200413  0.339793  0.361236    ...     0.034770 -0.024222 -0.082471   \n",
       "4 -0.032249 -1.153277  1.930242    ...     0.082553  0.260075  0.033727   \n",
       "\n",
       "         22        23        24        25        26        27        28  \n",
       "0 -0.387917 -0.345363 -0.494849 -0.473409 -0.452014 -0.408440 -0.355506  \n",
       "1 -0.215241 -0.123965 -0.319397 -0.164818 -0.352013 -0.191533 -0.194256  \n",
       "2 -0.278958 -0.124423 -0.254991 -0.199478 -0.269235 -0.364189 -0.401360  \n",
       "3  0.145880 -0.001003 -0.103413 -0.021333  0.242127  0.183213  0.057923  \n",
       "4  0.007164  0.217574  0.045687 -0.023058  0.073570 -0.035216  0.150859  \n",
       "\n",
       "[5 rows x 29 columns]"
      ]
     },
     "execution_count": 8,
     "metadata": {},
     "output_type": "execute_result"
    }
   ],
   "source": [
    "NewAll.head()"
   ]
  },
  {
   "cell_type": "code",
   "execution_count": 9,
   "metadata": {
    "collapsed": false
   },
   "outputs": [],
   "source": [
    "merged = pd.merge(TrainLabel,NewAll,left_on='File',right_on='FileName')\n",
    "M=merged"
   ]
  },
  {
   "cell_type": "code",
   "execution_count": 10,
   "metadata": {
    "collapsed": false
   },
   "outputs": [
    {
     "data": {
      "text/html": [
       "<div>\n",
       "<table border=\"1\" class=\"dataframe\">\n",
       "  <thead>\n",
       "    <tr style=\"text-align: right;\">\n",
       "      <th></th>\n",
       "      <th>Category</th>\n",
       "      <th>Event</th>\n",
       "      <th>File</th>\n",
       "      <th>FileName</th>\n",
       "      <th>1</th>\n",
       "      <th>2</th>\n",
       "      <th>3</th>\n",
       "      <th>4</th>\n",
       "      <th>5</th>\n",
       "      <th>6</th>\n",
       "      <th>...</th>\n",
       "      <th>19</th>\n",
       "      <th>20</th>\n",
       "      <th>21</th>\n",
       "      <th>22</th>\n",
       "      <th>23</th>\n",
       "      <th>24</th>\n",
       "      <th>25</th>\n",
       "      <th>26</th>\n",
       "      <th>27</th>\n",
       "      <th>28</th>\n",
       "    </tr>\n",
       "  </thead>\n",
       "  <tbody>\n",
       "    <tr>\n",
       "      <th>0</th>\n",
       "      <td>Effects</td>\n",
       "      <td>Beep</td>\n",
       "      <td>TN7.wav</td>\n",
       "      <td>TN7.wav</td>\n",
       "      <td>0.450030</td>\n",
       "      <td>-0.657955</td>\n",
       "      <td>-0.472067</td>\n",
       "      <td>0.806378</td>\n",
       "      <td>-0.459013</td>\n",
       "      <td>-1.618040</td>\n",
       "      <td>...</td>\n",
       "      <td>0.122218</td>\n",
       "      <td>2.893903</td>\n",
       "      <td>0.092648</td>\n",
       "      <td>-0.039023</td>\n",
       "      <td>0.050159</td>\n",
       "      <td>1.894039</td>\n",
       "      <td>0.351836</td>\n",
       "      <td>0.455250</td>\n",
       "      <td>1.579959</td>\n",
       "      <td>0.189980</td>\n",
       "    </tr>\n",
       "    <tr>\n",
       "      <th>1</th>\n",
       "      <td>Effects</td>\n",
       "      <td>Beep</td>\n",
       "      <td>RTS.wav</td>\n",
       "      <td>RTS.wav</td>\n",
       "      <td>0.154962</td>\n",
       "      <td>0.139358</td>\n",
       "      <td>-0.480358</td>\n",
       "      <td>0.590554</td>\n",
       "      <td>0.081359</td>\n",
       "      <td>-0.366675</td>\n",
       "      <td>...</td>\n",
       "      <td>-0.291889</td>\n",
       "      <td>-0.263856</td>\n",
       "      <td>-0.320434</td>\n",
       "      <td>-0.101932</td>\n",
       "      <td>0.411335</td>\n",
       "      <td>-0.219554</td>\n",
       "      <td>-0.242461</td>\n",
       "      <td>-0.074286</td>\n",
       "      <td>0.202045</td>\n",
       "      <td>3.675072</td>\n",
       "    </tr>\n",
       "    <tr>\n",
       "      <th>2</th>\n",
       "      <td>Effects</td>\n",
       "      <td>Beep</td>\n",
       "      <td>NUO.wav</td>\n",
       "      <td>NUO.wav</td>\n",
       "      <td>0.289917</td>\n",
       "      <td>0.204257</td>\n",
       "      <td>-0.824198</td>\n",
       "      <td>-0.541661</td>\n",
       "      <td>-0.956361</td>\n",
       "      <td>1.102917</td>\n",
       "      <td>...</td>\n",
       "      <td>-0.586832</td>\n",
       "      <td>-0.546731</td>\n",
       "      <td>-0.546539</td>\n",
       "      <td>-0.566862</td>\n",
       "      <td>-0.604211</td>\n",
       "      <td>-0.688867</td>\n",
       "      <td>-0.666260</td>\n",
       "      <td>-0.641028</td>\n",
       "      <td>-0.718920</td>\n",
       "      <td>-0.700342</td>\n",
       "    </tr>\n",
       "    <tr>\n",
       "      <th>3</th>\n",
       "      <td>Effects</td>\n",
       "      <td>Beep</td>\n",
       "      <td>CPU.wav</td>\n",
       "      <td>CPU.wav</td>\n",
       "      <td>-0.426194</td>\n",
       "      <td>-0.796868</td>\n",
       "      <td>-0.975152</td>\n",
       "      <td>0.004693</td>\n",
       "      <td>1.128522</td>\n",
       "      <td>-0.321922</td>\n",
       "      <td>...</td>\n",
       "      <td>-0.617440</td>\n",
       "      <td>-0.367776</td>\n",
       "      <td>-0.186714</td>\n",
       "      <td>0.845387</td>\n",
       "      <td>2.035690</td>\n",
       "      <td>0.033353</td>\n",
       "      <td>-0.193004</td>\n",
       "      <td>0.833408</td>\n",
       "      <td>-0.329001</td>\n",
       "      <td>-0.437476</td>\n",
       "    </tr>\n",
       "    <tr>\n",
       "      <th>4</th>\n",
       "      <td>Effects</td>\n",
       "      <td>Beep</td>\n",
       "      <td>SB2.wav</td>\n",
       "      <td>SB2.wav</td>\n",
       "      <td>2.018386</td>\n",
       "      <td>1.276561</td>\n",
       "      <td>-1.464099</td>\n",
       "      <td>-1.085889</td>\n",
       "      <td>2.162222</td>\n",
       "      <td>0.215389</td>\n",
       "      <td>...</td>\n",
       "      <td>-0.428287</td>\n",
       "      <td>-0.513934</td>\n",
       "      <td>-0.553905</td>\n",
       "      <td>-0.592041</td>\n",
       "      <td>-0.638272</td>\n",
       "      <td>-0.631264</td>\n",
       "      <td>2.284499</td>\n",
       "      <td>-0.492994</td>\n",
       "      <td>-0.552408</td>\n",
       "      <td>-0.484110</td>\n",
       "    </tr>\n",
       "  </tbody>\n",
       "</table>\n",
       "<p>5 rows × 32 columns</p>\n",
       "</div>"
      ],
      "text/plain": [
       "  Category Event     File FileName         1         2         3         4  \\\n",
       "0  Effects  Beep  TN7.wav  TN7.wav  0.450030 -0.657955 -0.472067  0.806378   \n",
       "1  Effects  Beep  RTS.wav  RTS.wav  0.154962  0.139358 -0.480358  0.590554   \n",
       "2  Effects  Beep  NUO.wav  NUO.wav  0.289917  0.204257 -0.824198 -0.541661   \n",
       "3  Effects  Beep  CPU.wav  CPU.wav -0.426194 -0.796868 -0.975152  0.004693   \n",
       "4  Effects  Beep  SB2.wav  SB2.wav  2.018386  1.276561 -1.464099 -1.085889   \n",
       "\n",
       "          5         6    ...           19        20        21        22  \\\n",
       "0 -0.459013 -1.618040    ...     0.122218  2.893903  0.092648 -0.039023   \n",
       "1  0.081359 -0.366675    ...    -0.291889 -0.263856 -0.320434 -0.101932   \n",
       "2 -0.956361  1.102917    ...    -0.586832 -0.546731 -0.546539 -0.566862   \n",
       "3  1.128522 -0.321922    ...    -0.617440 -0.367776 -0.186714  0.845387   \n",
       "4  2.162222  0.215389    ...    -0.428287 -0.513934 -0.553905 -0.592041   \n",
       "\n",
       "         23        24        25        26        27        28  \n",
       "0  0.050159  1.894039  0.351836  0.455250  1.579959  0.189980  \n",
       "1  0.411335 -0.219554 -0.242461 -0.074286  0.202045  3.675072  \n",
       "2 -0.604211 -0.688867 -0.666260 -0.641028 -0.718920 -0.700342  \n",
       "3  2.035690  0.033353 -0.193004  0.833408 -0.329001 -0.437476  \n",
       "4 -0.638272 -0.631264  2.284499 -0.492994 -0.552408 -0.484110  \n",
       "\n",
       "[5 rows x 32 columns]"
      ]
     },
     "execution_count": 10,
     "metadata": {},
     "output_type": "execute_result"
    }
   ],
   "source": [
    "merged.head()"
   ]
  },
  {
   "cell_type": "code",
   "execution_count": null,
   "metadata": {
    "collapsed": true
   },
   "outputs": [],
   "source": [
    "# newwriter = pd.ExcelWriter('merged.xlsx')\n",
    "# merged.to_excel(newwriter,'Sheet1')\n",
    "# newwriter.save()"
   ]
  },
  {
   "cell_type": "code",
   "execution_count": 18,
   "metadata": {
    "collapsed": false
   },
   "outputs": [
    {
     "data": {
      "text/html": [
       "<div>\n",
       "<table border=\"1\" class=\"dataframe\">\n",
       "  <thead>\n",
       "    <tr style=\"text-align: right;\">\n",
       "      <th></th>\n",
       "      <th>Category</th>\n",
       "      <th>Event</th>\n",
       "      <th>File</th>\n",
       "      <th>FileName</th>\n",
       "      <th>1</th>\n",
       "      <th>2</th>\n",
       "      <th>3</th>\n",
       "      <th>4</th>\n",
       "      <th>5</th>\n",
       "      <th>6</th>\n",
       "      <th>...</th>\n",
       "      <th>20</th>\n",
       "      <th>21</th>\n",
       "      <th>22</th>\n",
       "      <th>23</th>\n",
       "      <th>24</th>\n",
       "      <th>25</th>\n",
       "      <th>26</th>\n",
       "      <th>27</th>\n",
       "      <th>28</th>\n",
       "      <th>labelumn</th>\n",
       "    </tr>\n",
       "  </thead>\n",
       "  <tbody>\n",
       "    <tr>\n",
       "      <th>0</th>\n",
       "      <td>Effects</td>\n",
       "      <td>Beep</td>\n",
       "      <td>TN7.wav</td>\n",
       "      <td>TN7.wav</td>\n",
       "      <td>0.450030</td>\n",
       "      <td>-0.657955</td>\n",
       "      <td>-0.472067</td>\n",
       "      <td>0.806378</td>\n",
       "      <td>-0.459013</td>\n",
       "      <td>-1.618040</td>\n",
       "      <td>...</td>\n",
       "      <td>2.893903</td>\n",
       "      <td>0.092648</td>\n",
       "      <td>-0.039023</td>\n",
       "      <td>0.050159</td>\n",
       "      <td>1.894039</td>\n",
       "      <td>0.351836</td>\n",
       "      <td>0.455250</td>\n",
       "      <td>1.579959</td>\n",
       "      <td>0.189980</td>\n",
       "      <td>1</td>\n",
       "    </tr>\n",
       "    <tr>\n",
       "      <th>1</th>\n",
       "      <td>Effects</td>\n",
       "      <td>Beep</td>\n",
       "      <td>RTS.wav</td>\n",
       "      <td>RTS.wav</td>\n",
       "      <td>0.154962</td>\n",
       "      <td>0.139358</td>\n",
       "      <td>-0.480358</td>\n",
       "      <td>0.590554</td>\n",
       "      <td>0.081359</td>\n",
       "      <td>-0.366675</td>\n",
       "      <td>...</td>\n",
       "      <td>-0.263856</td>\n",
       "      <td>-0.320434</td>\n",
       "      <td>-0.101932</td>\n",
       "      <td>0.411335</td>\n",
       "      <td>-0.219554</td>\n",
       "      <td>-0.242461</td>\n",
       "      <td>-0.074286</td>\n",
       "      <td>0.202045</td>\n",
       "      <td>3.675072</td>\n",
       "      <td>1</td>\n",
       "    </tr>\n",
       "    <tr>\n",
       "      <th>2</th>\n",
       "      <td>Effects</td>\n",
       "      <td>Beep</td>\n",
       "      <td>NUO.wav</td>\n",
       "      <td>NUO.wav</td>\n",
       "      <td>0.289917</td>\n",
       "      <td>0.204257</td>\n",
       "      <td>-0.824198</td>\n",
       "      <td>-0.541661</td>\n",
       "      <td>-0.956361</td>\n",
       "      <td>1.102917</td>\n",
       "      <td>...</td>\n",
       "      <td>-0.546731</td>\n",
       "      <td>-0.546539</td>\n",
       "      <td>-0.566862</td>\n",
       "      <td>-0.604211</td>\n",
       "      <td>-0.688867</td>\n",
       "      <td>-0.666260</td>\n",
       "      <td>-0.641028</td>\n",
       "      <td>-0.718920</td>\n",
       "      <td>-0.700342</td>\n",
       "      <td>1</td>\n",
       "    </tr>\n",
       "    <tr>\n",
       "      <th>3</th>\n",
       "      <td>Effects</td>\n",
       "      <td>Beep</td>\n",
       "      <td>CPU.wav</td>\n",
       "      <td>CPU.wav</td>\n",
       "      <td>-0.426194</td>\n",
       "      <td>-0.796868</td>\n",
       "      <td>-0.975152</td>\n",
       "      <td>0.004693</td>\n",
       "      <td>1.128522</td>\n",
       "      <td>-0.321922</td>\n",
       "      <td>...</td>\n",
       "      <td>-0.367776</td>\n",
       "      <td>-0.186714</td>\n",
       "      <td>0.845387</td>\n",
       "      <td>2.035690</td>\n",
       "      <td>0.033353</td>\n",
       "      <td>-0.193004</td>\n",
       "      <td>0.833408</td>\n",
       "      <td>-0.329001</td>\n",
       "      <td>-0.437476</td>\n",
       "      <td>1</td>\n",
       "    </tr>\n",
       "    <tr>\n",
       "      <th>4</th>\n",
       "      <td>Effects</td>\n",
       "      <td>Beep</td>\n",
       "      <td>SB2.wav</td>\n",
       "      <td>SB2.wav</td>\n",
       "      <td>2.018386</td>\n",
       "      <td>1.276561</td>\n",
       "      <td>-1.464099</td>\n",
       "      <td>-1.085889</td>\n",
       "      <td>2.162222</td>\n",
       "      <td>0.215389</td>\n",
       "      <td>...</td>\n",
       "      <td>-0.513934</td>\n",
       "      <td>-0.553905</td>\n",
       "      <td>-0.592041</td>\n",
       "      <td>-0.638272</td>\n",
       "      <td>-0.631264</td>\n",
       "      <td>2.284499</td>\n",
       "      <td>-0.492994</td>\n",
       "      <td>-0.552408</td>\n",
       "      <td>-0.484110</td>\n",
       "      <td>1</td>\n",
       "    </tr>\n",
       "  </tbody>\n",
       "</table>\n",
       "<p>5 rows × 33 columns</p>\n",
       "</div>"
      ],
      "text/plain": [
       "  Category Event     File FileName         1         2         3         4  \\\n",
       "0  Effects  Beep  TN7.wav  TN7.wav  0.450030 -0.657955 -0.472067  0.806378   \n",
       "1  Effects  Beep  RTS.wav  RTS.wav  0.154962  0.139358 -0.480358  0.590554   \n",
       "2  Effects  Beep  NUO.wav  NUO.wav  0.289917  0.204257 -0.824198 -0.541661   \n",
       "3  Effects  Beep  CPU.wav  CPU.wav -0.426194 -0.796868 -0.975152  0.004693   \n",
       "4  Effects  Beep  SB2.wav  SB2.wav  2.018386  1.276561 -1.464099 -1.085889   \n",
       "\n",
       "          5         6    ...           20        21        22        23  \\\n",
       "0 -0.459013 -1.618040    ...     2.893903  0.092648 -0.039023  0.050159   \n",
       "1  0.081359 -0.366675    ...    -0.263856 -0.320434 -0.101932  0.411335   \n",
       "2 -0.956361  1.102917    ...    -0.546731 -0.546539 -0.566862 -0.604211   \n",
       "3  1.128522 -0.321922    ...    -0.367776 -0.186714  0.845387  2.035690   \n",
       "4  2.162222  0.215389    ...    -0.513934 -0.553905 -0.592041 -0.638272   \n",
       "\n",
       "         24        25        26        27        28  labelumn  \n",
       "0  1.894039  0.351836  0.455250  1.579959  0.189980         1  \n",
       "1 -0.219554 -0.242461 -0.074286  0.202045  3.675072         1  \n",
       "2 -0.688867 -0.666260 -0.641028 -0.718920 -0.700342         1  \n",
       "3  0.033353 -0.193004  0.833408 -0.329001 -0.437476         1  \n",
       "4 -0.631264  2.284499 -0.492994 -0.552408 -0.484110         1  \n",
       "\n",
       "[5 rows x 33 columns]"
      ]
     },
     "execution_count": 18,
     "metadata": {},
     "output_type": "execute_result"
    }
   ],
   "source": [
    "M['labelumn'] = pd.factorize(M['Category'], sort=True)[0] + 1\n",
    "M.head()"
   ]
  },
  {
   "cell_type": "markdown",
   "metadata": {},
   "source": [
    "# Separate Features and class labels"
   ]
  },
  {
   "cell_type": "code",
   "execution_count": 28,
   "metadata": {
    "collapsed": false
   },
   "outputs": [],
   "source": [
    "Features=merged.iloc[:,4:100]\n",
    "labels=merged.iloc[:,0]\n",
    "#labels.head()"
   ]
  },
  {
   "cell_type": "code",
   "execution_count": 19,
   "metadata": {
    "collapsed": false
   },
   "outputs": [
    {
     "data": {
      "text/plain": [
       "(array(['Effects', 'Human', 'Music', 'Nature', 'Urban'], dtype=object),\n",
       " array([62, 57, 56, 77, 48], dtype=int64))"
      ]
     },
     "execution_count": 19,
     "metadata": {},
     "output_type": "execute_result"
    }
   ],
   "source": [
    "X_train, X_test, y_train, y_test = train_test_split(Features,labels, test_size=.20, random_state=40) \n",
    "np.unique(y_test,return_counts=True)"
   ]
  },
  {
   "cell_type": "code",
   "execution_count": 26,
   "metadata": {
    "collapsed": false
   },
   "outputs": [
    {
     "data": {
      "text/plain": [
       "GridSearchCV(cv=5, error_score='raise',\n",
       "       estimator=SVC(C=1.0, cache_size=200, class_weight=None, coef0=0.0,\n",
       "  decision_function_shape=None, degree=3, gamma='auto', kernel='rbf',\n",
       "  max_iter=-1, probability=False, random_state=None, shrinking=True,\n",
       "  tol=0.001, verbose=False),\n",
       "       fit_params={}, iid=True, n_jobs=1,\n",
       "       param_grid={'kernel': ('linear', 'rbf', 'poly'), 'C': [1, 10, 100], 'gamma': [0.01, 0.002]},\n",
       "       pre_dispatch='2*n_jobs', refit=True, return_train_score=True,\n",
       "       scoring=None, verbose=0)"
      ]
     },
     "execution_count": 26,
     "metadata": {},
     "output_type": "execute_result"
    }
   ],
   "source": [
    "cv=5\n",
    "from sklearn.model_selection import GridSearchCV\n",
    "parameters = {'kernel':('linear', 'rbf','poly'), 'C':[1, 10,100],'gamma':[0.01,.002]}\n",
    "svc = svm.SVC()\n",
    "clf = GridSearchCV(svc, parameters,cv=cv)\n",
    "clf.fit(X_train, y_train)"
   ]
  },
  {
   "cell_type": "code",
   "execution_count": 27,
   "metadata": {
    "collapsed": false
   },
   "outputs": [
    {
     "data": {
      "text/plain": [
       "0.16"
      ]
     },
     "execution_count": 27,
     "metadata": {},
     "output_type": "execute_result"
    }
   ],
   "source": [
    "pred=clf.best_estimator_.predict(X_test)\n",
    "clf.score(X_test, y_test)\n",
    "#print pred\n",
    "#print y_test\n",
    "#pred.shape"
   ]
  },
  {
   "cell_type": "code",
   "execution_count": 29,
   "metadata": {
    "collapsed": false
   },
   "outputs": [
    {
     "name": "stdout",
     "output_type": "stream",
     "text": [
      "0.16\n"
     ]
    }
   ],
   "source": [
    "acc=accuracy_score(clf.best_estimator_.predict(X_test),y_test)\n",
    "print acc"
   ]
  },
  {
   "cell_type": "markdown",
   "metadata": {},
   "source": [
    "# Confusion Matrix"
   ]
  },
  {
   "cell_type": "code",
   "execution_count": 30,
   "metadata": {
    "collapsed": false
   },
   "outputs": [
    {
     "data": {
      "text/plain": [
       "array([[ 0,  0,  0,  0, 62],\n",
       "       [ 0,  0,  0,  0, 57],\n",
       "       [ 0,  0,  0,  0, 56],\n",
       "       [ 0,  0,  0,  0, 77],\n",
       "       [ 0,  0,  0,  0, 48]])"
      ]
     },
     "execution_count": 30,
     "metadata": {},
     "output_type": "execute_result"
    }
   ],
   "source": [
    "conf_mat=confusion_matrix(y_test,pred)\n",
    "conf_mat"
   ]
  },
  {
   "cell_type": "code",
   "execution_count": null,
   "metadata": {
    "collapsed": true
   },
   "outputs": [],
   "source": []
  }
 ],
 "metadata": {
  "kernelspec": {
   "display_name": "Python 2",
   "language": "python",
   "name": "python2"
  },
  "language_info": {
   "codemirror_mode": {
    "name": "ipython",
    "version": 2
   },
   "file_extension": ".py",
   "mimetype": "text/x-python",
   "name": "python",
   "nbconvert_exporter": "python",
   "pygments_lexer": "ipython2",
   "version": "2.7.13"
  }
 },
 "nbformat": 4,
 "nbformat_minor": 2
}
