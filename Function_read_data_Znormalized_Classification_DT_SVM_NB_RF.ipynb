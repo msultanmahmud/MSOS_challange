{
 "cells": [
  {
   "cell_type": "markdown",
   "metadata": {},
   "source": [
    "# Function to read the data from folder"
   ]
  },
  {
   "cell_type": "code",
   "execution_count": 1,
   "metadata": {
    "collapsed": false
   },
   "outputs": [],
   "source": [
    "import numpy as np\n",
    "import pandas as pd\n",
    "import matplotlib.pyplot as plt\n",
    "from sklearn import preprocessing\n",
    "from sklearn import svm, metrics\n",
    "from sklearn.ensemble import RandomForestClassifier\n",
    "from sklearn.model_selection import train_test_split, GridSearchCV,cross_val_score\n",
    "from sklearn.metrics import accuracy_score,confusion_matrix,roc_curve, auc\n",
    "from matplotlib import pyplot as plt\n",
    "from collections import Counter\n",
    "from scipy.stats import norm, zscore\n",
    "import seaborn as sns; sns.set(font_scale=1.2)\n",
    "from sklearn.externals import joblib\n",
    "%matplotlib inline"
   ]
  },
  {
   "cell_type": "code",
   "execution_count": 13,
   "metadata": {
    "collapsed": false
   },
   "outputs": [],
   "source": [
    "# def readnormalized(path, filename):\n",
    "#     datafeatures=pd.read_csv(path+filename,header=None)\n",
    "#     dfr=datafeatures[datafeatures.columns[0]]\n",
    "#     df=datafeatures[datafeatures.columns[1:]]\n",
    "#     dzs=df.apply(zscore)\n",
    "#     #min_max_scaler = preprocessing.MinMaxScaler()\n",
    "#     #scaled_array = min_max_scaler.fit_transform(df)\n",
    "#     df_normalized = pd.DataFrame(dzs)\n",
    "#     da=pd.concat([dfr, df_normalized],axis=1)\n",
    "#     return da;"
   ]
  },
  {
   "cell_type": "code",
   "execution_count": 14,
   "metadata": {
    "collapsed": false
   },
   "outputs": [],
   "source": [
    "# path='C:/Users/Sultan/OneDrive - The University of Memphis/RESEARCH2017S/Msos/ACA-Code-master/Features/';\n",
    "# filename='Effects5Features.csv'\n",
    "# eff=readnormalized(path, filename)\n",
    "# hum=readnormalized(path,'Human5Features.csv')\n",
    "# mus=readnormalized(path,'Music5Features.csv')\n",
    "# nat=readnormalized(path,'Nature5Features.csv')\n",
    "# urb=readnormalized(path,'Urban5Features.csv')"
   ]
  },
  {
   "cell_type": "code",
   "execution_count": 15,
   "metadata": {
    "collapsed": false
   },
   "outputs": [],
   "source": [
    "# All=pd.concat([eff, hum,mus,nat,urb], axis=0)\n",
    "# # eff.head()\n",
    "# #type(All)"
   ]
  },
  {
   "cell_type": "markdown",
   "metadata": {},
   "source": [
    "# Write the Xls file"
   ]
  },
  {
   "cell_type": "code",
   "execution_count": 16,
   "metadata": {
    "collapsed": false
   },
   "outputs": [],
   "source": [
    "# writer = pd.ExcelWriter(path+'allzscore.xlsx')\n",
    "# All.to_excel(writer,'Sheet1')\n",
    "# writer.save()"
   ]
  },
  {
   "cell_type": "code",
   "execution_count": 17,
   "metadata": {
    "collapsed": false
   },
   "outputs": [],
   "source": [
    "# TrainLabel=pd.read_csv(path+'Logsheet_Development.csv')\n",
    "# b=All[0].tail()\n",
    "#print TrainLabel \n",
    "#TrainLabel['File']"
   ]
  },
  {
   "cell_type": "markdown",
   "metadata": {},
   "source": [
    "#  Reading csv data"
   ]
  },
  {
   "cell_type": "code",
   "execution_count": 18,
   "metadata": {
    "collapsed": false
   },
   "outputs": [],
   "source": [
    "path='C:/Users/Sultan/OneDrive - The University of Memphis/RESEARCH2017S/Msos/ACA-Code-master/Features/';\n",
    "TrainLabel=pd.read_csv(path+'Logsheet_Development.csv')\n",
    "#NewAll=pd.read_csv('all.csv')\n",
    "# First need to add a 'FileName' in the 2nd column and delet the first column\n",
    "NewAll=pd.read_csv(path+'allzscore.csv')\n",
    "NewAll.columns = NewAll.columns.astype(str)"
   ]
  },
  {
   "cell_type": "code",
   "execution_count": 19,
   "metadata": {
    "collapsed": false
   },
   "outputs": [
    {
     "data": {
      "text/html": [
       "<div>\n",
       "<table border=\"1\" class=\"dataframe\">\n",
       "  <thead>\n",
       "    <tr style=\"text-align: right;\">\n",
       "      <th></th>\n",
       "      <th>FileName</th>\n",
       "      <th>1</th>\n",
       "      <th>2</th>\n",
       "      <th>3</th>\n",
       "      <th>4</th>\n",
       "      <th>5</th>\n",
       "      <th>6</th>\n",
       "      <th>7</th>\n",
       "      <th>8</th>\n",
       "      <th>9</th>\n",
       "      <th>...</th>\n",
       "      <th>19</th>\n",
       "      <th>20</th>\n",
       "      <th>21</th>\n",
       "      <th>22</th>\n",
       "      <th>23</th>\n",
       "      <th>24</th>\n",
       "      <th>25</th>\n",
       "      <th>26</th>\n",
       "      <th>27</th>\n",
       "      <th>28</th>\n",
       "    </tr>\n",
       "  </thead>\n",
       "  <tbody>\n",
       "    <tr>\n",
       "      <th>0</th>\n",
       "      <td>03J.wav</td>\n",
       "      <td>-0.253767</td>\n",
       "      <td>-0.570028</td>\n",
       "      <td>1.569354</td>\n",
       "      <td>0.246321</td>\n",
       "      <td>-0.104473</td>\n",
       "      <td>0.468726</td>\n",
       "      <td>0.133977</td>\n",
       "      <td>-0.098509</td>\n",
       "      <td>-0.235818</td>\n",
       "      <td>...</td>\n",
       "      <td>-0.424627</td>\n",
       "      <td>-0.397054</td>\n",
       "      <td>-0.380810</td>\n",
       "      <td>-0.387917</td>\n",
       "      <td>-0.345363</td>\n",
       "      <td>-0.494849</td>\n",
       "      <td>-0.473409</td>\n",
       "      <td>-0.452014</td>\n",
       "      <td>-0.408440</td>\n",
       "      <td>-0.355506</td>\n",
       "    </tr>\n",
       "    <tr>\n",
       "      <th>1</th>\n",
       "      <td>07L.wav</td>\n",
       "      <td>0.493496</td>\n",
       "      <td>0.229284</td>\n",
       "      <td>-1.432952</td>\n",
       "      <td>0.294372</td>\n",
       "      <td>0.325935</td>\n",
       "      <td>0.335019</td>\n",
       "      <td>0.015511</td>\n",
       "      <td>-0.282397</td>\n",
       "      <td>-0.035257</td>\n",
       "      <td>...</td>\n",
       "      <td>-0.306916</td>\n",
       "      <td>-0.357002</td>\n",
       "      <td>-0.329687</td>\n",
       "      <td>-0.215241</td>\n",
       "      <td>-0.123965</td>\n",
       "      <td>-0.319397</td>\n",
       "      <td>-0.164818</td>\n",
       "      <td>-0.352013</td>\n",
       "      <td>-0.191533</td>\n",
       "      <td>-0.194256</td>\n",
       "    </tr>\n",
       "    <tr>\n",
       "      <th>2</th>\n",
       "      <td>0M8.wav</td>\n",
       "      <td>0.913320</td>\n",
       "      <td>0.054370</td>\n",
       "      <td>-0.793936</td>\n",
       "      <td>0.561064</td>\n",
       "      <td>-0.134824</td>\n",
       "      <td>0.682071</td>\n",
       "      <td>0.099388</td>\n",
       "      <td>0.642784</td>\n",
       "      <td>0.224363</td>\n",
       "      <td>...</td>\n",
       "      <td>0.449165</td>\n",
       "      <td>-0.374144</td>\n",
       "      <td>-0.364430</td>\n",
       "      <td>-0.278958</td>\n",
       "      <td>-0.124423</td>\n",
       "      <td>-0.254991</td>\n",
       "      <td>-0.199478</td>\n",
       "      <td>-0.269235</td>\n",
       "      <td>-0.364189</td>\n",
       "      <td>-0.401360</td>\n",
       "    </tr>\n",
       "    <tr>\n",
       "      <th>3</th>\n",
       "      <td>0UB.wav</td>\n",
       "      <td>0.225888</td>\n",
       "      <td>0.500648</td>\n",
       "      <td>0.073438</td>\n",
       "      <td>0.635488</td>\n",
       "      <td>0.563894</td>\n",
       "      <td>0.590488</td>\n",
       "      <td>0.200413</td>\n",
       "      <td>0.339793</td>\n",
       "      <td>0.361236</td>\n",
       "      <td>...</td>\n",
       "      <td>0.034770</td>\n",
       "      <td>-0.024222</td>\n",
       "      <td>-0.082471</td>\n",
       "      <td>0.145880</td>\n",
       "      <td>-0.001003</td>\n",
       "      <td>-0.103413</td>\n",
       "      <td>-0.021333</td>\n",
       "      <td>0.242127</td>\n",
       "      <td>0.183213</td>\n",
       "      <td>0.057923</td>\n",
       "    </tr>\n",
       "    <tr>\n",
       "      <th>4</th>\n",
       "      <td>0W9.wav</td>\n",
       "      <td>-0.921333</td>\n",
       "      <td>-0.974647</td>\n",
       "      <td>-0.346149</td>\n",
       "      <td>0.553977</td>\n",
       "      <td>1.130840</td>\n",
       "      <td>0.470933</td>\n",
       "      <td>-0.032249</td>\n",
       "      <td>-1.153277</td>\n",
       "      <td>1.930242</td>\n",
       "      <td>...</td>\n",
       "      <td>0.082553</td>\n",
       "      <td>0.260075</td>\n",
       "      <td>0.033727</td>\n",
       "      <td>0.007164</td>\n",
       "      <td>0.217574</td>\n",
       "      <td>0.045687</td>\n",
       "      <td>-0.023058</td>\n",
       "      <td>0.073570</td>\n",
       "      <td>-0.035216</td>\n",
       "      <td>0.150859</td>\n",
       "    </tr>\n",
       "  </tbody>\n",
       "</table>\n",
       "<p>5 rows × 29 columns</p>\n",
       "</div>"
      ],
      "text/plain": [
       "  FileName         1         2         3         4         5         6  \\\n",
       "0  03J.wav -0.253767 -0.570028  1.569354  0.246321 -0.104473  0.468726   \n",
       "1  07L.wav  0.493496  0.229284 -1.432952  0.294372  0.325935  0.335019   \n",
       "2  0M8.wav  0.913320  0.054370 -0.793936  0.561064 -0.134824  0.682071   \n",
       "3  0UB.wav  0.225888  0.500648  0.073438  0.635488  0.563894  0.590488   \n",
       "4  0W9.wav -0.921333 -0.974647 -0.346149  0.553977  1.130840  0.470933   \n",
       "\n",
       "          7         8         9    ...           19        20        21  \\\n",
       "0  0.133977 -0.098509 -0.235818    ...    -0.424627 -0.397054 -0.380810   \n",
       "1  0.015511 -0.282397 -0.035257    ...    -0.306916 -0.357002 -0.329687   \n",
       "2  0.099388  0.642784  0.224363    ...     0.449165 -0.374144 -0.364430   \n",
       "3  0.200413  0.339793  0.361236    ...     0.034770 -0.024222 -0.082471   \n",
       "4 -0.032249 -1.153277  1.930242    ...     0.082553  0.260075  0.033727   \n",
       "\n",
       "         22        23        24        25        26        27        28  \n",
       "0 -0.387917 -0.345363 -0.494849 -0.473409 -0.452014 -0.408440 -0.355506  \n",
       "1 -0.215241 -0.123965 -0.319397 -0.164818 -0.352013 -0.191533 -0.194256  \n",
       "2 -0.278958 -0.124423 -0.254991 -0.199478 -0.269235 -0.364189 -0.401360  \n",
       "3  0.145880 -0.001003 -0.103413 -0.021333  0.242127  0.183213  0.057923  \n",
       "4  0.007164  0.217574  0.045687 -0.023058  0.073570 -0.035216  0.150859  \n",
       "\n",
       "[5 rows x 29 columns]"
      ]
     },
     "execution_count": 19,
     "metadata": {},
     "output_type": "execute_result"
    }
   ],
   "source": [
    "NewAll.head()"
   ]
  },
  {
   "cell_type": "markdown",
   "metadata": {},
   "source": [
    "# Merger the same files name"
   ]
  },
  {
   "cell_type": "code",
   "execution_count": 121,
   "metadata": {
    "collapsed": true
   },
   "outputs": [],
   "source": [
    "merged = pd.merge(TrainLabel,NewAll,left_on='File',right_on='FileName')\n",
    "M=merged"
   ]
  },
  {
   "cell_type": "code",
   "execution_count": 122,
   "metadata": {
    "collapsed": false
   },
   "outputs": [
    {
     "data": {
      "text/html": [
       "<div>\n",
       "<table border=\"1\" class=\"dataframe\">\n",
       "  <thead>\n",
       "    <tr style=\"text-align: right;\">\n",
       "      <th></th>\n",
       "      <th>Category</th>\n",
       "      <th>Event</th>\n",
       "      <th>File</th>\n",
       "      <th>FileName</th>\n",
       "      <th>1</th>\n",
       "      <th>2</th>\n",
       "      <th>3</th>\n",
       "      <th>4</th>\n",
       "      <th>5</th>\n",
       "      <th>6</th>\n",
       "      <th>...</th>\n",
       "      <th>19</th>\n",
       "      <th>20</th>\n",
       "      <th>21</th>\n",
       "      <th>22</th>\n",
       "      <th>23</th>\n",
       "      <th>24</th>\n",
       "      <th>25</th>\n",
       "      <th>26</th>\n",
       "      <th>27</th>\n",
       "      <th>28</th>\n",
       "    </tr>\n",
       "  </thead>\n",
       "  <tbody>\n",
       "    <tr>\n",
       "      <th>0</th>\n",
       "      <td>Effects</td>\n",
       "      <td>Beep</td>\n",
       "      <td>TN7.wav</td>\n",
       "      <td>TN7.wav</td>\n",
       "      <td>0.450030</td>\n",
       "      <td>-0.657955</td>\n",
       "      <td>-0.472067</td>\n",
       "      <td>0.806378</td>\n",
       "      <td>-0.459013</td>\n",
       "      <td>-1.618040</td>\n",
       "      <td>...</td>\n",
       "      <td>0.122218</td>\n",
       "      <td>2.893903</td>\n",
       "      <td>0.092648</td>\n",
       "      <td>-0.039023</td>\n",
       "      <td>0.050159</td>\n",
       "      <td>1.894039</td>\n",
       "      <td>0.351836</td>\n",
       "      <td>0.455250</td>\n",
       "      <td>1.579959</td>\n",
       "      <td>0.189980</td>\n",
       "    </tr>\n",
       "    <tr>\n",
       "      <th>1</th>\n",
       "      <td>Effects</td>\n",
       "      <td>Beep</td>\n",
       "      <td>RTS.wav</td>\n",
       "      <td>RTS.wav</td>\n",
       "      <td>0.154962</td>\n",
       "      <td>0.139358</td>\n",
       "      <td>-0.480358</td>\n",
       "      <td>0.590554</td>\n",
       "      <td>0.081359</td>\n",
       "      <td>-0.366675</td>\n",
       "      <td>...</td>\n",
       "      <td>-0.291889</td>\n",
       "      <td>-0.263856</td>\n",
       "      <td>-0.320434</td>\n",
       "      <td>-0.101932</td>\n",
       "      <td>0.411335</td>\n",
       "      <td>-0.219554</td>\n",
       "      <td>-0.242461</td>\n",
       "      <td>-0.074286</td>\n",
       "      <td>0.202045</td>\n",
       "      <td>3.675072</td>\n",
       "    </tr>\n",
       "    <tr>\n",
       "      <th>2</th>\n",
       "      <td>Effects</td>\n",
       "      <td>Beep</td>\n",
       "      <td>NUO.wav</td>\n",
       "      <td>NUO.wav</td>\n",
       "      <td>0.289917</td>\n",
       "      <td>0.204257</td>\n",
       "      <td>-0.824198</td>\n",
       "      <td>-0.541661</td>\n",
       "      <td>-0.956361</td>\n",
       "      <td>1.102917</td>\n",
       "      <td>...</td>\n",
       "      <td>-0.586832</td>\n",
       "      <td>-0.546731</td>\n",
       "      <td>-0.546539</td>\n",
       "      <td>-0.566862</td>\n",
       "      <td>-0.604211</td>\n",
       "      <td>-0.688867</td>\n",
       "      <td>-0.666260</td>\n",
       "      <td>-0.641028</td>\n",
       "      <td>-0.718920</td>\n",
       "      <td>-0.700342</td>\n",
       "    </tr>\n",
       "    <tr>\n",
       "      <th>3</th>\n",
       "      <td>Effects</td>\n",
       "      <td>Beep</td>\n",
       "      <td>CPU.wav</td>\n",
       "      <td>CPU.wav</td>\n",
       "      <td>-0.426194</td>\n",
       "      <td>-0.796868</td>\n",
       "      <td>-0.975152</td>\n",
       "      <td>0.004693</td>\n",
       "      <td>1.128522</td>\n",
       "      <td>-0.321922</td>\n",
       "      <td>...</td>\n",
       "      <td>-0.617440</td>\n",
       "      <td>-0.367776</td>\n",
       "      <td>-0.186714</td>\n",
       "      <td>0.845387</td>\n",
       "      <td>2.035690</td>\n",
       "      <td>0.033353</td>\n",
       "      <td>-0.193004</td>\n",
       "      <td>0.833408</td>\n",
       "      <td>-0.329001</td>\n",
       "      <td>-0.437476</td>\n",
       "    </tr>\n",
       "    <tr>\n",
       "      <th>4</th>\n",
       "      <td>Effects</td>\n",
       "      <td>Beep</td>\n",
       "      <td>SB2.wav</td>\n",
       "      <td>SB2.wav</td>\n",
       "      <td>2.018386</td>\n",
       "      <td>1.276561</td>\n",
       "      <td>-1.464099</td>\n",
       "      <td>-1.085889</td>\n",
       "      <td>2.162222</td>\n",
       "      <td>0.215389</td>\n",
       "      <td>...</td>\n",
       "      <td>-0.428287</td>\n",
       "      <td>-0.513934</td>\n",
       "      <td>-0.553905</td>\n",
       "      <td>-0.592041</td>\n",
       "      <td>-0.638272</td>\n",
       "      <td>-0.631264</td>\n",
       "      <td>2.284499</td>\n",
       "      <td>-0.492994</td>\n",
       "      <td>-0.552408</td>\n",
       "      <td>-0.484110</td>\n",
       "    </tr>\n",
       "  </tbody>\n",
       "</table>\n",
       "<p>5 rows × 32 columns</p>\n",
       "</div>"
      ],
      "text/plain": [
       "  Category Event     File FileName         1         2         3         4  \\\n",
       "0  Effects  Beep  TN7.wav  TN7.wav  0.450030 -0.657955 -0.472067  0.806378   \n",
       "1  Effects  Beep  RTS.wav  RTS.wav  0.154962  0.139358 -0.480358  0.590554   \n",
       "2  Effects  Beep  NUO.wav  NUO.wav  0.289917  0.204257 -0.824198 -0.541661   \n",
       "3  Effects  Beep  CPU.wav  CPU.wav -0.426194 -0.796868 -0.975152  0.004693   \n",
       "4  Effects  Beep  SB2.wav  SB2.wav  2.018386  1.276561 -1.464099 -1.085889   \n",
       "\n",
       "          5         6    ...           19        20        21        22  \\\n",
       "0 -0.459013 -1.618040    ...     0.122218  2.893903  0.092648 -0.039023   \n",
       "1  0.081359 -0.366675    ...    -0.291889 -0.263856 -0.320434 -0.101932   \n",
       "2 -0.956361  1.102917    ...    -0.586832 -0.546731 -0.546539 -0.566862   \n",
       "3  1.128522 -0.321922    ...    -0.617440 -0.367776 -0.186714  0.845387   \n",
       "4  2.162222  0.215389    ...    -0.428287 -0.513934 -0.553905 -0.592041   \n",
       "\n",
       "         23        24        25        26        27        28  \n",
       "0  0.050159  1.894039  0.351836  0.455250  1.579959  0.189980  \n",
       "1  0.411335 -0.219554 -0.242461 -0.074286  0.202045  3.675072  \n",
       "2 -0.604211 -0.688867 -0.666260 -0.641028 -0.718920 -0.700342  \n",
       "3  2.035690  0.033353 -0.193004  0.833408 -0.329001 -0.437476  \n",
       "4 -0.638272 -0.631264  2.284499 -0.492994 -0.552408 -0.484110  \n",
       "\n",
       "[5 rows x 32 columns]"
      ]
     },
     "execution_count": 122,
     "metadata": {},
     "output_type": "execute_result"
    }
   ],
   "source": [
    "merged.head()"
   ]
  },
  {
   "cell_type": "code",
   "execution_count": 123,
   "metadata": {
    "collapsed": true
   },
   "outputs": [],
   "source": [
    "# newwriter = pd.ExcelWriter('merged.xlsx')\n",
    "# merged.to_excel(newwriter,'Sheet1')\n",
    "# newwriter.save()"
   ]
  },
  {
   "cell_type": "markdown",
   "metadata": {},
   "source": [
    "# Categorical name to discrete number"
   ]
  },
  {
   "cell_type": "code",
   "execution_count": 124,
   "metadata": {
    "collapsed": false
   },
   "outputs": [
    {
     "data": {
      "text/html": [
       "<div>\n",
       "<table border=\"1\" class=\"dataframe\">\n",
       "  <thead>\n",
       "    <tr style=\"text-align: right;\">\n",
       "      <th></th>\n",
       "      <th>Category</th>\n",
       "      <th>Event</th>\n",
       "      <th>File</th>\n",
       "      <th>FileName</th>\n",
       "      <th>1</th>\n",
       "      <th>2</th>\n",
       "      <th>3</th>\n",
       "      <th>4</th>\n",
       "      <th>5</th>\n",
       "      <th>6</th>\n",
       "      <th>...</th>\n",
       "      <th>20</th>\n",
       "      <th>21</th>\n",
       "      <th>22</th>\n",
       "      <th>23</th>\n",
       "      <th>24</th>\n",
       "      <th>25</th>\n",
       "      <th>26</th>\n",
       "      <th>27</th>\n",
       "      <th>28</th>\n",
       "      <th>labelumn</th>\n",
       "    </tr>\n",
       "  </thead>\n",
       "  <tbody>\n",
       "    <tr>\n",
       "      <th>0</th>\n",
       "      <td>Effects</td>\n",
       "      <td>Beep</td>\n",
       "      <td>TN7.wav</td>\n",
       "      <td>TN7.wav</td>\n",
       "      <td>0.450030</td>\n",
       "      <td>-0.657955</td>\n",
       "      <td>-0.472067</td>\n",
       "      <td>0.806378</td>\n",
       "      <td>-0.459013</td>\n",
       "      <td>-1.618040</td>\n",
       "      <td>...</td>\n",
       "      <td>2.893903</td>\n",
       "      <td>0.092648</td>\n",
       "      <td>-0.039023</td>\n",
       "      <td>0.050159</td>\n",
       "      <td>1.894039</td>\n",
       "      <td>0.351836</td>\n",
       "      <td>0.455250</td>\n",
       "      <td>1.579959</td>\n",
       "      <td>0.189980</td>\n",
       "      <td>1</td>\n",
       "    </tr>\n",
       "    <tr>\n",
       "      <th>1</th>\n",
       "      <td>Effects</td>\n",
       "      <td>Beep</td>\n",
       "      <td>RTS.wav</td>\n",
       "      <td>RTS.wav</td>\n",
       "      <td>0.154962</td>\n",
       "      <td>0.139358</td>\n",
       "      <td>-0.480358</td>\n",
       "      <td>0.590554</td>\n",
       "      <td>0.081359</td>\n",
       "      <td>-0.366675</td>\n",
       "      <td>...</td>\n",
       "      <td>-0.263856</td>\n",
       "      <td>-0.320434</td>\n",
       "      <td>-0.101932</td>\n",
       "      <td>0.411335</td>\n",
       "      <td>-0.219554</td>\n",
       "      <td>-0.242461</td>\n",
       "      <td>-0.074286</td>\n",
       "      <td>0.202045</td>\n",
       "      <td>3.675072</td>\n",
       "      <td>1</td>\n",
       "    </tr>\n",
       "    <tr>\n",
       "      <th>2</th>\n",
       "      <td>Effects</td>\n",
       "      <td>Beep</td>\n",
       "      <td>NUO.wav</td>\n",
       "      <td>NUO.wav</td>\n",
       "      <td>0.289917</td>\n",
       "      <td>0.204257</td>\n",
       "      <td>-0.824198</td>\n",
       "      <td>-0.541661</td>\n",
       "      <td>-0.956361</td>\n",
       "      <td>1.102917</td>\n",
       "      <td>...</td>\n",
       "      <td>-0.546731</td>\n",
       "      <td>-0.546539</td>\n",
       "      <td>-0.566862</td>\n",
       "      <td>-0.604211</td>\n",
       "      <td>-0.688867</td>\n",
       "      <td>-0.666260</td>\n",
       "      <td>-0.641028</td>\n",
       "      <td>-0.718920</td>\n",
       "      <td>-0.700342</td>\n",
       "      <td>1</td>\n",
       "    </tr>\n",
       "    <tr>\n",
       "      <th>3</th>\n",
       "      <td>Effects</td>\n",
       "      <td>Beep</td>\n",
       "      <td>CPU.wav</td>\n",
       "      <td>CPU.wav</td>\n",
       "      <td>-0.426194</td>\n",
       "      <td>-0.796868</td>\n",
       "      <td>-0.975152</td>\n",
       "      <td>0.004693</td>\n",
       "      <td>1.128522</td>\n",
       "      <td>-0.321922</td>\n",
       "      <td>...</td>\n",
       "      <td>-0.367776</td>\n",
       "      <td>-0.186714</td>\n",
       "      <td>0.845387</td>\n",
       "      <td>2.035690</td>\n",
       "      <td>0.033353</td>\n",
       "      <td>-0.193004</td>\n",
       "      <td>0.833408</td>\n",
       "      <td>-0.329001</td>\n",
       "      <td>-0.437476</td>\n",
       "      <td>1</td>\n",
       "    </tr>\n",
       "    <tr>\n",
       "      <th>4</th>\n",
       "      <td>Effects</td>\n",
       "      <td>Beep</td>\n",
       "      <td>SB2.wav</td>\n",
       "      <td>SB2.wav</td>\n",
       "      <td>2.018386</td>\n",
       "      <td>1.276561</td>\n",
       "      <td>-1.464099</td>\n",
       "      <td>-1.085889</td>\n",
       "      <td>2.162222</td>\n",
       "      <td>0.215389</td>\n",
       "      <td>...</td>\n",
       "      <td>-0.513934</td>\n",
       "      <td>-0.553905</td>\n",
       "      <td>-0.592041</td>\n",
       "      <td>-0.638272</td>\n",
       "      <td>-0.631264</td>\n",
       "      <td>2.284499</td>\n",
       "      <td>-0.492994</td>\n",
       "      <td>-0.552408</td>\n",
       "      <td>-0.484110</td>\n",
       "      <td>1</td>\n",
       "    </tr>\n",
       "  </tbody>\n",
       "</table>\n",
       "<p>5 rows × 33 columns</p>\n",
       "</div>"
      ],
      "text/plain": [
       "  Category Event     File FileName         1         2         3         4  \\\n",
       "0  Effects  Beep  TN7.wav  TN7.wav  0.450030 -0.657955 -0.472067  0.806378   \n",
       "1  Effects  Beep  RTS.wav  RTS.wav  0.154962  0.139358 -0.480358  0.590554   \n",
       "2  Effects  Beep  NUO.wav  NUO.wav  0.289917  0.204257 -0.824198 -0.541661   \n",
       "3  Effects  Beep  CPU.wav  CPU.wav -0.426194 -0.796868 -0.975152  0.004693   \n",
       "4  Effects  Beep  SB2.wav  SB2.wav  2.018386  1.276561 -1.464099 -1.085889   \n",
       "\n",
       "          5         6    ...           20        21        22        23  \\\n",
       "0 -0.459013 -1.618040    ...     2.893903  0.092648 -0.039023  0.050159   \n",
       "1  0.081359 -0.366675    ...    -0.263856 -0.320434 -0.101932  0.411335   \n",
       "2 -0.956361  1.102917    ...    -0.546731 -0.546539 -0.566862 -0.604211   \n",
       "3  1.128522 -0.321922    ...    -0.367776 -0.186714  0.845387  2.035690   \n",
       "4  2.162222  0.215389    ...    -0.513934 -0.553905 -0.592041 -0.638272   \n",
       "\n",
       "         24        25        26        27        28  labelumn  \n",
       "0  1.894039  0.351836  0.455250  1.579959  0.189980         1  \n",
       "1 -0.219554 -0.242461 -0.074286  0.202045  3.675072         1  \n",
       "2 -0.688867 -0.666260 -0.641028 -0.718920 -0.700342         1  \n",
       "3  0.033353 -0.193004  0.833408 -0.329001 -0.437476         1  \n",
       "4 -0.631264  2.284499 -0.492994 -0.552408 -0.484110         1  \n",
       "\n",
       "[5 rows x 33 columns]"
      ]
     },
     "execution_count": 124,
     "metadata": {},
     "output_type": "execute_result"
    }
   ],
   "source": [
    "M['labelumn'] = pd.factorize(M['Category'], sort=True)[0] + 1\n",
    "M.head()"
   ]
  },
  {
   "cell_type": "markdown",
   "metadata": {},
   "source": [
    "# Separate Features and class labels"
   ]
  },
  {
   "cell_type": "code",
   "execution_count": 125,
   "metadata": {
    "collapsed": false
   },
   "outputs": [],
   "source": [
    "Features=merged.iloc[:,4:32]\n",
    "labels=merged.iloc[:,0]\n",
    "#labels.head()"
   ]
  },
  {
   "cell_type": "code",
   "execution_count": 126,
   "metadata": {
    "collapsed": false
   },
   "outputs": [
    {
     "data": {
      "text/plain": [
       "(array(['Effects', 'Human', 'Music', 'Nature', 'Urban'], dtype=object),\n",
       " array([62, 57, 56, 77, 48], dtype=int64))"
      ]
     },
     "execution_count": 126,
     "metadata": {},
     "output_type": "execute_result"
    }
   ],
   "source": [
    "X_train, X_test, y_train, y_test = train_test_split(Features,labels, test_size=.20, random_state=40) \n",
    "np.unique(y_test,return_counts=True)"
   ]
  },
  {
   "cell_type": "code",
   "execution_count": 128,
   "metadata": {
    "collapsed": false
   },
   "outputs": [
    {
     "data": {
      "text/plain": [
       "pandas.core.series.Series"
      ]
     },
     "execution_count": 128,
     "metadata": {},
     "output_type": "execute_result"
    }
   ],
   "source": [
    "type(y_test)"
   ]
  },
  {
   "cell_type": "code",
   "execution_count": 27,
   "metadata": {
    "collapsed": false
   },
   "outputs": [
    {
     "data": {
      "text/plain": [
       "1044    Nature\n",
       "1150    Nature\n",
       "771      Music\n",
       "1171    Nature\n",
       "621      Music\n",
       "Name: Category, dtype: object"
      ]
     },
     "execution_count": 27,
     "metadata": {},
     "output_type": "execute_result"
    }
   ],
   "source": [
    "y_test.head()"
   ]
  },
  {
   "cell_type": "code",
   "execution_count": 28,
   "metadata": {
    "collapsed": false
   },
   "outputs": [],
   "source": [
    "# cv=5\n",
    "# from sklearn.model_selection import GridSearchCV\n",
    "# parameters = {'kernel':('linear', 'rbf','poly'), 'C':[1, 10,100],'gamma':[0.01,.002]}\n",
    "# svc = svm.SVC()\n",
    "# clf = GridSearchCV(svc, parameters,cv=cv)\n",
    "# clf.fit(X_train, y_train)"
   ]
  },
  {
   "cell_type": "code",
   "execution_count": 29,
   "metadata": {
    "collapsed": false
   },
   "outputs": [],
   "source": [
    "# from sklearn.tree import DecisionTreeClassifier\n",
    "# dtree_model = DecisionTreeClassifier(max_depth = 2).fit(X_train, y_train)\n",
    "# dtree_predictions = dtree_model.predict(X_test)\n",
    "# #accuracy=dtree_predictions.score(X_test, y_test)"
   ]
  },
  {
   "cell_type": "markdown",
   "metadata": {
    "collapsed": true
   },
   "source": [
    "# Training a DescisionTreeClassifier [link](https://www.geeksforgeeks.org/multiclass-classification-using-scikit-learn/)"
   ]
  },
  {
   "cell_type": "markdown",
   "metadata": {},
   "source": [
    "# Decision tree"
   ]
  },
  {
   "cell_type": "code",
   "execution_count": 54,
   "metadata": {
    "collapsed": false
   },
   "outputs": [
    {
     "data": {
      "text/plain": [
       "0.00082644628099173552"
      ]
     },
     "execution_count": 54,
     "metadata": {},
     "output_type": "execute_result"
    }
   ],
   "source": [
    "from sklearn.tree import DecisionTreeClassifier\n",
    "clf = DecisionTreeClassifier(random_state=42)\n",
    "dtree_model=clf.fit(X_train,y_train)\n",
    "dtree_predictions=dtree_model.predict(X_test)\n",
    "#cross_val_score(clf, Features, labels, cv=10)\n",
    "score=cross_val_score(clf, X_train, y_train, cv=5)\n",
    "# Mean score\n",
    "score.mean()"
   ]
  },
  {
   "cell_type": "markdown",
   "metadata": {},
   "source": [
    "# Confusion matrix and accuracy of DT"
   ]
  },
  {
   "cell_type": "code",
   "execution_count": 59,
   "metadata": {
    "collapsed": false
   },
   "outputs": [],
   "source": [
    "# cm = confusion_matrix(y_test, dtree_predictions)\n",
    "# cm"
   ]
  },
  {
   "cell_type": "code",
   "execution_count": 60,
   "metadata": {
    "collapsed": false
   },
   "outputs": [],
   "source": [
    "# acctre=accuracy_score(y_test, dtree_predictions)\n",
    "# print(\"The accucracy of DT is %2f:\" % acctre)"
   ]
  },
  {
   "cell_type": "markdown",
   "metadata": {
    "collapsed": false
   },
   "source": [
    "# SVM classifier"
   ]
  },
  {
   "cell_type": "code",
   "execution_count": 61,
   "metadata": {
    "collapsed": false
   },
   "outputs": [
    {
     "data": {
      "text/plain": [
       "array([ 0.14049587,  0.15289256,  0.13692946,  0.14705882,  0.12658228])"
      ]
     },
     "execution_count": 61,
     "metadata": {},
     "output_type": "execute_result"
    }
   ],
   "source": [
    "clf = svm.SVC(kernel='linear', C=5)\n",
    "scores = cross_val_score(clf, X_train, y_train, cv=5)\n",
    "scores"
   ]
  },
  {
   "cell_type": "markdown",
   "metadata": {},
   "source": [
    "# Average accuracy"
   ]
  },
  {
   "cell_type": "code",
   "execution_count": 62,
   "metadata": {
    "collapsed": false
   },
   "outputs": [
    {
     "name": "stdout",
     "output_type": "stream",
     "text": [
      "Accuracy:0.141 (+/-0.018)\n"
     ]
    }
   ],
   "source": [
    "print(\"Accuracy:%0.3f (+/-%0.3f)\" %(scores.mean(), scores.std()*2))"
   ]
  },
  {
   "cell_type": "markdown",
   "metadata": {},
   "source": [
    "# ShuffleSplit (Other Cross-validation)"
   ]
  },
  {
   "cell_type": "code",
   "execution_count": 63,
   "metadata": {
    "collapsed": false
   },
   "outputs": [
    {
     "data": {
      "text/plain": [
       "array([ 0.11111111,  0.11555556,  0.12666667,  0.11777778,  0.12      ])"
      ]
     },
     "execution_count": 63,
     "metadata": {},
     "output_type": "execute_result"
    }
   ],
   "source": [
    "from sklearn.model_selection import ShuffleSplit\n",
    "cv = ShuffleSplit(n_splits=5, test_size=0.3, random_state=0)\n",
    "cr=cross_val_score(clf, Features, labels, cv=cv)\n",
    "cr"
   ]
  },
  {
   "cell_type": "markdown",
   "metadata": {},
   "source": [
    "# Average Accuracy for shuffle split"
   ]
  },
  {
   "cell_type": "code",
   "execution_count": 64,
   "metadata": {
    "collapsed": false
   },
   "outputs": [
    {
     "name": "stdout",
     "output_type": "stream",
     "text": [
      "Accuracy:0.118 (+/-0.010)\n"
     ]
    }
   ],
   "source": [
    "print(\"Accuracy:%0.3f (+/-%0.3f)\" %(cr.mean(), cr.std()*2))"
   ]
  },
  {
   "cell_type": "markdown",
   "metadata": {},
   "source": [
    "# Gridserach CV"
   ]
  },
  {
   "cell_type": "code",
   "execution_count": 65,
   "metadata": {
    "collapsed": false
   },
   "outputs": [
    {
     "data": {
      "text/plain": [
       "GridSearchCV(cv=ShuffleSplit(n_splits=5, random_state=0, test_size=0.3, train_size=None),\n",
       "       error_score='raise',\n",
       "       estimator=SVC(C=1.0, cache_size=200, class_weight=None, coef0=0.0,\n",
       "  decision_function_shape=None, degree=3, gamma='auto', kernel='rbf',\n",
       "  max_iter=-1, probability=False, random_state=None, shrinking=True,\n",
       "  tol=0.001, verbose=False),\n",
       "       fit_params={}, iid=True, n_jobs=1,\n",
       "       param_grid={'kernel': ('linear', 'rbf', 'poly', 'sigmoid'), 'C': [1, 10, 100], 'gamma': [0.01, 0.002]},\n",
       "       pre_dispatch='2*n_jobs', refit=True, return_train_score=True,\n",
       "       scoring=None, verbose=0)"
      ]
     },
     "execution_count": 65,
     "metadata": {},
     "output_type": "execute_result"
    }
   ],
   "source": [
    "cv = ShuffleSplit(n_splits=5, test_size=0.3, random_state=0)\n",
    "parameters = {'kernel':('linear', 'rbf','poly','sigmoid'), 'C':[1, 10,100],'gamma':[0.01,.002]}\n",
    "svc = svm.SVC()\n",
    "clf = GridSearchCV(svc, parameters,cv=cv)\n",
    "clf.fit(Features, labels)"
   ]
  },
  {
   "cell_type": "markdown",
   "metadata": {},
   "source": [
    "# Find the score"
   ]
  },
  {
   "cell_type": "code",
   "execution_count": 66,
   "metadata": {
    "collapsed": false
   },
   "outputs": [
    {
     "data": {
      "text/plain": [
       "array([ 0.11733333,  0.12222222,  0.17422222,  0.15822222,  0.11733333,\n",
       "        0.17511111,  0.17911111,  0.17822222,  0.11733333,  0.07244444,\n",
       "        0.14444444,  0.18266667,  0.11733333,  0.11911111,  0.17822222,\n",
       "        0.14222222,  0.11777778,  0.02177778,  0.08      ,  0.19066667,\n",
       "        0.11777778,  0.08311111,  0.17466667,  0.13911111])"
      ]
     },
     "execution_count": 66,
     "metadata": {},
     "output_type": "execute_result"
    }
   ],
   "source": [
    "clf.cv_results_['mean_test_score']"
   ]
  },
  {
   "cell_type": "markdown",
   "metadata": {},
   "source": [
    "# Find the best parameters"
   ]
  },
  {
   "cell_type": "code",
   "execution_count": 71,
   "metadata": {
    "collapsed": false
   },
   "outputs": [
    {
     "data": {
      "text/plain": [
       "SVC(C=100, cache_size=200, class_weight=None, coef0=0.0,\n",
       "  decision_function_shape=None, degree=3, gamma=0.01, kernel='sigmoid',\n",
       "  max_iter=-1, probability=False, random_state=None, shrinking=True,\n",
       "  tol=0.001, verbose=False)"
      ]
     },
     "execution_count": 71,
     "metadata": {},
     "output_type": "execute_result"
    }
   ],
   "source": [
    "clf.best_estimator_"
   ]
  },
  {
   "cell_type": "code",
   "execution_count": 72,
   "metadata": {
    "collapsed": false
   },
   "outputs": [
    {
     "name": "stdout",
     "output_type": "stream",
     "text": [
      "0.196666666667\n"
     ]
    }
   ],
   "source": [
    "acc=accuracy_score(clf.best_estimator_.predict(X_test),y_test)\n",
    "print acc"
   ]
  },
  {
   "cell_type": "code",
   "execution_count": 73,
   "metadata": {
    "collapsed": false
   },
   "outputs": [],
   "source": [
    "#sorted(clf.cv_results_.keys())"
   ]
  },
  {
   "cell_type": "code",
   "execution_count": 74,
   "metadata": {
    "collapsed": false
   },
   "outputs": [],
   "source": [
    "#clf.cv_results_"
   ]
  },
  {
   "cell_type": "markdown",
   "metadata": {},
   "source": [
    "# Confusion Matrix"
   ]
  },
  {
   "cell_type": "code",
   "execution_count": 78,
   "metadata": {
    "collapsed": false
   },
   "outputs": [],
   "source": [
    "# pred=clf.best_estimator_.predict(X_test)\n",
    "# conf_mat=confusion_matrix(y_test,pred)\n",
    "# #conf_mat\n",
    "# # conf_mat=confusion_matrix(y_test,pred)\n",
    "# conf_mat"
   ]
  },
  {
   "cell_type": "code",
   "execution_count": 86,
   "metadata": {
    "collapsed": false
   },
   "outputs": [
    {
     "data": {
      "text/html": [
       "<div>\n",
       "<table border=\"1\" class=\"dataframe\">\n",
       "  <thead>\n",
       "    <tr style=\"text-align: right;\">\n",
       "      <th></th>\n",
       "      <th>Predict Effects</th>\n",
       "      <th>Predict Human</th>\n",
       "      <th>Predict Music</th>\n",
       "      <th>Predict Nature</th>\n",
       "      <th>Predict Urban</th>\n",
       "    </tr>\n",
       "  </thead>\n",
       "  <tbody>\n",
       "    <tr>\n",
       "      <th>True Effects</th>\n",
       "      <td>25</td>\n",
       "      <td>35</td>\n",
       "      <td>0</td>\n",
       "      <td>0</td>\n",
       "      <td>2</td>\n",
       "    </tr>\n",
       "    <tr>\n",
       "      <th>True Human</th>\n",
       "      <td>23</td>\n",
       "      <td>31</td>\n",
       "      <td>0</td>\n",
       "      <td>0</td>\n",
       "      <td>3</td>\n",
       "    </tr>\n",
       "    <tr>\n",
       "      <th>True Music</th>\n",
       "      <td>27</td>\n",
       "      <td>27</td>\n",
       "      <td>0</td>\n",
       "      <td>0</td>\n",
       "      <td>2</td>\n",
       "    </tr>\n",
       "    <tr>\n",
       "      <th>True Nature</th>\n",
       "      <td>33</td>\n",
       "      <td>40</td>\n",
       "      <td>0</td>\n",
       "      <td>0</td>\n",
       "      <td>4</td>\n",
       "    </tr>\n",
       "    <tr>\n",
       "      <th>True Urban</th>\n",
       "      <td>20</td>\n",
       "      <td>25</td>\n",
       "      <td>0</td>\n",
       "      <td>0</td>\n",
       "      <td>3</td>\n",
       "    </tr>\n",
       "  </tbody>\n",
       "</table>\n",
       "</div>"
      ],
      "text/plain": [
       "               Predict Effects  Predict Human  Predict Music  Predict Nature  \\\n",
       " True Effects               25             35              0               0   \n",
       "True Human                  23             31              0               0   \n",
       " True Music                 27             27              0               0   \n",
       " True Nature                33             40              0               0   \n",
       "True Urban                  20             25              0               0   \n",
       "\n",
       "               Predict Urban  \n",
       " True Effects              2  \n",
       "True Human                 3  \n",
       " True Music                2  \n",
       " True Nature               4  \n",
       "True Urban                 3  "
      ]
     },
     "execution_count": 86,
     "metadata": {},
     "output_type": "execute_result"
    }
   ],
   "source": [
    "pred=clf.best_estimator_.predict(X_test)\n",
    "pd.DataFrame(\n",
    "    confusion_matrix(y_test, pred),\n",
    "    columns=['Predict Effects', 'Predict Human', 'Predict Music', 'Predict Nature', 'Predict Urban'],\n",
    "    index=[' True Effects', 'True Human', ' True Music', ' True Nature', 'True Urban'])"
   ]
  },
  {
   "cell_type": "code",
   "execution_count": 87,
   "metadata": {
    "collapsed": false
   },
   "outputs": [
    {
     "data": {
      "text/plain": [
       "(array(['Effects', 'Human', 'Urban'], dtype=object),\n",
       " array([128, 158,  14], dtype=int64))"
      ]
     },
     "execution_count": 87,
     "metadata": {},
     "output_type": "execute_result"
    }
   ],
   "source": [
    "df=pd.DataFrame(pred)\n",
    "np.unique(df,return_counts=True)"
   ]
  },
  {
   "cell_type": "code",
   "execution_count": 88,
   "metadata": {
    "collapsed": false
   },
   "outputs": [
    {
     "data": {
      "text/plain": [
       "(array(['Effects', 'Human', 'Music', 'Nature', 'Urban'], dtype=object),\n",
       " array([62, 57, 56, 77, 48], dtype=int64))"
      ]
     },
     "execution_count": 88,
     "metadata": {},
     "output_type": "execute_result"
    }
   ],
   "source": [
    "np.unique(y_test,return_counts=True)"
   ]
  },
  {
   "cell_type": "code",
   "execution_count": 91,
   "metadata": {
    "collapsed": false
   },
   "outputs": [
    {
     "data": {
      "text/plain": [
       "<matplotlib.image.AxesImage at 0xe4584e0>"
      ]
     },
     "execution_count": 91,
     "metadata": {},
     "output_type": "execute_result"
    },
    {
     "data": {
      "image/png": "[encoded data removed]",
      "text/plain": [
       "<matplotlib.figure.Figure at 0xdfdb630>"
      ]
     },
     "metadata": {},
     "output_type": "display_data"
    }
   ],
   "source": [
    "# cmap=plt.cm.RdBu\n",
    "# plt.imshow(cm, interpolation='nearest', cmap=cmap)"
   ]
  },
  {
   "cell_type": "markdown",
   "metadata": {
    "collapsed": true
   },
   "source": [
    "# Gaussian Naive Bayes"
   ]
  },
  {
   "cell_type": "code",
   "execution_count": 93,
   "metadata": {
    "collapsed": true
   },
   "outputs": [],
   "source": [
    "from sklearn.naive_bayes import GaussianNB\n",
    "gnb = GaussianNB()"
   ]
  },
  {
   "cell_type": "code",
   "execution_count": 94,
   "metadata": {
    "collapsed": false
   },
   "outputs": [],
   "source": [
    "y_pred=gnb.fit(X_train,y_train).predict(X_test)\n",
    "#y_pred.results"
   ]
  },
  {
   "cell_type": "code",
   "execution_count": 95,
   "metadata": {
    "collapsed": false
   },
   "outputs": [
    {
     "name": "stdout",
     "output_type": "stream",
     "text": [
      "Number of mislabeled points out of a total 300 points : 233\n"
     ]
    }
   ],
   "source": [
    "print(\"Number of mislabeled points out of a total %d points : %d\"\n",
    "      % (y_test.shape[0],(y_test != y_pred).sum()))"
   ]
  },
  {
   "cell_type": "code",
   "execution_count": 96,
   "metadata": {
    "collapsed": false
   },
   "outputs": [
    {
     "name": "stdout",
     "output_type": "stream",
     "text": [
      "Accuracy 22.333333\n"
     ]
    }
   ],
   "source": [
    "acc=(1-(y_test!= y_pred).sum()/300.0)*100\n",
    "print(\"Accuracy %f\" %acc)"
   ]
  },
  {
   "cell_type": "code",
   "execution_count": 97,
   "metadata": {
    "collapsed": false
   },
   "outputs": [
    {
     "data": {
      "text/plain": [
       "array([[ 5,  1,  2, 52,  2],\n",
       "       [11,  0,  0, 43,  3],\n",
       "       [10,  1,  0, 43,  2],\n",
       "       [ 9,  1,  4, 60,  3],\n",
       "       [ 7,  1,  4, 34,  2]])"
      ]
     },
     "execution_count": 97,
     "metadata": {},
     "output_type": "execute_result"
    }
   ],
   "source": [
    "conf_mat=confusion_matrix(y_test,y_pred)\n",
    "conf_mat"
   ]
  },
  {
   "cell_type": "code",
   "execution_count": 98,
   "metadata": {
    "collapsed": false
   },
   "outputs": [],
   "source": [
    "# (y_test!=y_pred).sum())"
   ]
  },
  {
   "cell_type": "markdown",
   "metadata": {
    "collapsed": false
   },
   "source": [
    "# Random Forest [link](https://www.codementor.io/agarrahul01/multiclass-classification-using-random-forest-on-scikit-learn-library-hkk4lwawu)"
   ]
  },
  {
   "cell_type": "code",
   "execution_count": 99,
   "metadata": {
    "collapsed": false
   },
   "outputs": [
    {
     "data": {
      "text/html": [
       "<div>\n",
       "<table border=\"1\" class=\"dataframe\">\n",
       "  <thead>\n",
       "    <tr style=\"text-align: right;\">\n",
       "      <th></th>\n",
       "      <th>1</th>\n",
       "      <th>2</th>\n",
       "      <th>3</th>\n",
       "      <th>4</th>\n",
       "      <th>5</th>\n",
       "      <th>6</th>\n",
       "      <th>7</th>\n",
       "      <th>8</th>\n",
       "      <th>9</th>\n",
       "      <th>10</th>\n",
       "      <th>...</th>\n",
       "      <th>19</th>\n",
       "      <th>20</th>\n",
       "      <th>21</th>\n",
       "      <th>22</th>\n",
       "      <th>23</th>\n",
       "      <th>24</th>\n",
       "      <th>25</th>\n",
       "      <th>26</th>\n",
       "      <th>27</th>\n",
       "      <th>28</th>\n",
       "    </tr>\n",
       "  </thead>\n",
       "  <tbody>\n",
       "    <tr>\n",
       "      <th>1000</th>\n",
       "      <td>-0.092606</td>\n",
       "      <td>-0.803322</td>\n",
       "      <td>0.436299</td>\n",
       "      <td>0.558966</td>\n",
       "      <td>-0.364590</td>\n",
       "      <td>-2.121087</td>\n",
       "      <td>-1.656618</td>\n",
       "      <td>-1.603110</td>\n",
       "      <td>-1.949577</td>\n",
       "      <td>-0.753489</td>\n",
       "      <td>...</td>\n",
       "      <td>0.029105</td>\n",
       "      <td>-0.042571</td>\n",
       "      <td>-0.000995</td>\n",
       "      <td>0.592786</td>\n",
       "      <td>0.401495</td>\n",
       "      <td>0.236442</td>\n",
       "      <td>0.279973</td>\n",
       "      <td>0.449971</td>\n",
       "      <td>0.626767</td>\n",
       "      <td>0.386103</td>\n",
       "    </tr>\n",
       "    <tr>\n",
       "      <th>758</th>\n",
       "      <td>-0.441928</td>\n",
       "      <td>-0.809542</td>\n",
       "      <td>1.946002</td>\n",
       "      <td>-0.386118</td>\n",
       "      <td>-1.037969</td>\n",
       "      <td>0.103566</td>\n",
       "      <td>0.345240</td>\n",
       "      <td>-0.824837</td>\n",
       "      <td>0.013647</td>\n",
       "      <td>0.193033</td>\n",
       "      <td>...</td>\n",
       "      <td>-0.587960</td>\n",
       "      <td>-0.580835</td>\n",
       "      <td>-0.558383</td>\n",
       "      <td>-0.560669</td>\n",
       "      <td>-0.521949</td>\n",
       "      <td>-0.606740</td>\n",
       "      <td>-0.516179</td>\n",
       "      <td>-0.418984</td>\n",
       "      <td>-0.576637</td>\n",
       "      <td>-0.578329</td>\n",
       "    </tr>\n",
       "    <tr>\n",
       "      <th>275</th>\n",
       "      <td>-0.684670</td>\n",
       "      <td>-0.954852</td>\n",
       "      <td>1.455349</td>\n",
       "      <td>-0.610224</td>\n",
       "      <td>-2.291685</td>\n",
       "      <td>0.241057</td>\n",
       "      <td>1.173868</td>\n",
       "      <td>-0.254626</td>\n",
       "      <td>-1.629353</td>\n",
       "      <td>0.699847</td>\n",
       "      <td>...</td>\n",
       "      <td>-0.603643</td>\n",
       "      <td>-0.574592</td>\n",
       "      <td>-0.399914</td>\n",
       "      <td>-0.475681</td>\n",
       "      <td>-0.460884</td>\n",
       "      <td>-0.139903</td>\n",
       "      <td>-0.579840</td>\n",
       "      <td>-0.051232</td>\n",
       "      <td>-0.337747</td>\n",
       "      <td>-0.632993</td>\n",
       "    </tr>\n",
       "    <tr>\n",
       "      <th>1374</th>\n",
       "      <td>0.640522</td>\n",
       "      <td>1.791030</td>\n",
       "      <td>-0.619235</td>\n",
       "      <td>0.223157</td>\n",
       "      <td>-0.904936</td>\n",
       "      <td>-1.299869</td>\n",
       "      <td>1.784624</td>\n",
       "      <td>-0.691152</td>\n",
       "      <td>-1.013370</td>\n",
       "      <td>0.931841</td>\n",
       "      <td>...</td>\n",
       "      <td>0.143895</td>\n",
       "      <td>-0.194303</td>\n",
       "      <td>2.226591</td>\n",
       "      <td>0.033853</td>\n",
       "      <td>2.634816</td>\n",
       "      <td>0.112710</td>\n",
       "      <td>1.025806</td>\n",
       "      <td>-0.119149</td>\n",
       "      <td>0.476427</td>\n",
       "      <td>0.290783</td>\n",
       "    </tr>\n",
       "    <tr>\n",
       "      <th>169</th>\n",
       "      <td>0.804598</td>\n",
       "      <td>1.123730</td>\n",
       "      <td>1.037069</td>\n",
       "      <td>0.253851</td>\n",
       "      <td>-0.847445</td>\n",
       "      <td>-0.523732</td>\n",
       "      <td>0.138399</td>\n",
       "      <td>-0.318412</td>\n",
       "      <td>0.646835</td>\n",
       "      <td>-0.279924</td>\n",
       "      <td>...</td>\n",
       "      <td>0.079732</td>\n",
       "      <td>-0.277806</td>\n",
       "      <td>-0.291740</td>\n",
       "      <td>-0.287884</td>\n",
       "      <td>-0.311533</td>\n",
       "      <td>-0.398923</td>\n",
       "      <td>-0.363308</td>\n",
       "      <td>-0.332832</td>\n",
       "      <td>-0.138297</td>\n",
       "      <td>-0.057614</td>\n",
       "    </tr>\n",
       "  </tbody>\n",
       "</table>\n",
       "<p>5 rows × 28 columns</p>\n",
       "</div>"
      ],
      "text/plain": [
       "             1         2         3         4         5         6         7  \\\n",
       "1000 -0.092606 -0.803322  0.436299  0.558966 -0.364590 -2.121087 -1.656618   \n",
       "758  -0.441928 -0.809542  1.946002 -0.386118 -1.037969  0.103566  0.345240   \n",
       "275  -0.684670 -0.954852  1.455349 -0.610224 -2.291685  0.241057  1.173868   \n",
       "1374  0.640522  1.791030 -0.619235  0.223157 -0.904936 -1.299869  1.784624   \n",
       "169   0.804598  1.123730  1.037069  0.253851 -0.847445 -0.523732  0.138399   \n",
       "\n",
       "             8         9        10    ...           19        20        21  \\\n",
       "1000 -1.603110 -1.949577 -0.753489    ...     0.029105 -0.042571 -0.000995   \n",
       "758  -0.824837  0.013647  0.193033    ...    -0.587960 -0.580835 -0.558383   \n",
       "275  -0.254626 -1.629353  0.699847    ...    -0.603643 -0.574592 -0.399914   \n",
       "1374 -0.691152 -1.013370  0.931841    ...     0.143895 -0.194303  2.226591   \n",
       "169  -0.318412  0.646835 -0.279924    ...     0.079732 -0.277806 -0.291740   \n",
       "\n",
       "            22        23        24        25        26        27        28  \n",
       "1000  0.592786  0.401495  0.236442  0.279973  0.449971  0.626767  0.386103  \n",
       "758  -0.560669 -0.521949 -0.606740 -0.516179 -0.418984 -0.576637 -0.578329  \n",
       "275  -0.475681 -0.460884 -0.139903 -0.579840 -0.051232 -0.337747 -0.632993  \n",
       "1374  0.033853  2.634816  0.112710  1.025806 -0.119149  0.476427  0.290783  \n",
       "169  -0.287884 -0.311533 -0.398923 -0.363308 -0.332832 -0.138297 -0.057614  \n",
       "\n",
       "[5 rows x 28 columns]"
      ]
     },
     "execution_count": 99,
     "metadata": {},
     "output_type": "execute_result"
    }
   ],
   "source": [
    "X_train.head()"
   ]
  },
  {
   "cell_type": "markdown",
   "metadata": {},
   "source": [
    "# pd to numpy"
   ]
  },
  {
   "cell_type": "code",
   "execution_count": 100,
   "metadata": {
    "collapsed": false
   },
   "outputs": [
    {
     "name": "stdout",
     "output_type": "stream",
     "text": [
      "0    0\n",
      "1    0\n",
      "2    0\n",
      "3    0\n",
      "4    0\n",
      "Name: Category, dtype: int64\n",
      "Index([u'Effects', u'Human', u'Music', u'Nature', u'Urban'], dtype='object')\n"
     ]
    }
   ],
   "source": [
    "#Creating the dependent variable class\n",
    "factor = pd.factorize(M['Category'])\n",
    "M.Category = factor[0]\n",
    "definitions = factor[1]\n",
    "print(M.Category.head())\n",
    "print(definitions)"
   ]
  },
  {
   "cell_type": "code",
   "execution_count": 102,
   "metadata": {
    "collapsed": false
   },
   "outputs": [
    {
     "data": {
      "text/plain": [
       "RandomForestClassifier(bootstrap=True, class_weight=None, criterion='entropy',\n",
       "            max_depth=None, max_features='auto', max_leaf_nodes=None,\n",
       "            min_impurity_split=1e-07, min_samples_leaf=1,\n",
       "            min_samples_split=2, min_weight_fraction_leaf=0.0,\n",
       "            n_estimators=10, n_jobs=1, oob_score=False, random_state=42,\n",
       "            verbose=0, warm_start=False)"
      ]
     },
     "execution_count": 102,
     "metadata": {},
     "output_type": "execute_result"
    }
   ],
   "source": [
    "# Fitting Random Forest Classification to the Training set\n",
    "classifier = RandomForestClassifier(n_estimators = 10, criterion = 'entropy', random_state = 42)\n",
    "classifier.fit(X_train, y_train)"
   ]
  },
  {
   "cell_type": "code",
   "execution_count": 132,
   "metadata": {
    "collapsed": false
   },
   "outputs": [],
   "source": [
    "y_pred = classifier.predict(X_test)\n",
    "y1=y_test\n",
    "#print y1"
   ]
  },
  {
   "cell_type": "code",
   "execution_count": 134,
   "metadata": {
    "collapsed": false
   },
   "outputs": [
    {
     "name": "stdout",
     "output_type": "stream",
     "text": [
      "Predicted Species  Effects  Human  Music  Nature  Urban\n",
      "Actual Species                                         \n",
      "Effects                  0     18     15      16     13\n",
      "Human                   15      0     14      15     13\n",
      "Music                   19     11      0      14     12\n",
      "Nature                  24     24     18       0     11\n",
      "Urban                    7     11     18      12      0\n"
     ]
    }
   ],
   "source": [
    "print(pd.crosstab(y_test, y_pred, rownames=['Actual Species'], colnames=['Predicted Species']))"
   ]
  },
  {
   "cell_type": "code",
   "execution_count": 138,
   "metadata": {
    "collapsed": false
   },
   "outputs": [
    {
     "name": "stdout",
     "output_type": "stream",
     "text": [
      "Predicted Species  Effects  Human  Music  Nature  Urban\n",
      "Actual Species                                         \n",
      "Effects                  0     18     15      16     13\n",
      "Human                   15      0     14      15     13\n",
      "Music                   19     11      0      14     12\n",
      "Nature                  24     24     18       0     11\n",
      "Urban                    7     11     18      12      0\n"
     ]
    }
   ],
   "source": [
    "# Predicting the Test set results\n",
    "y_pred = classifier.predict(X_test)\n",
    "print(pd.crosstab(y_test, y_pred, rownames=['Actual Species'], colnames=['Predicted Species']))"
   ]
  },
  {
   "cell_type": "code",
   "execution_count": 139,
   "metadata": {
    "collapsed": false
   },
   "outputs": [
    {
     "data": {
      "text/plain": [
       "array([ 0.04,  0.04,  0.04,  0.03,  0.03,  0.03,  0.04,  0.04,  0.04,\n",
       "        0.04,  0.04,  0.04,  0.05,  0.04,  0.03,  0.04,  0.03,  0.03,\n",
       "        0.03,  0.03,  0.03,  0.04,  0.03,  0.03,  0.03,  0.03,  0.03,  0.03])"
      ]
     },
     "execution_count": 139,
     "metadata": {},
     "output_type": "execute_result"
    }
   ],
   "source": [
    "classifier.feature_importances_"
   ]
  },
  {
   "cell_type": "code",
   "execution_count": 140,
   "metadata": {
    "collapsed": false
   },
   "outputs": [],
   "source": [
    "# # Predicting the Test set results\n",
    "# y_pred = classifier.predict(X_test)\n",
    "# #Reverse factorize (converting y_pred from 0s,1s and 2s to Iris-setosa, Iris-versicolor and Iris-virginica\n",
    "# reversefactor = dict(zip(range(5),definitions))\n",
    "# y_test = np.vectorize(reversefactor.get)(y_test)\n",
    "# y_pred = np.vectorize(reversefactor.get)(y_pred)\n",
    "# # Making the Confusion Matrix\n",
    "# print(pd.crosstab(y_test, y_pred, rownames=['Actual Species'], colnames=['Predicted Species']))"
   ]
  },
  {
   "cell_type": "code",
   "execution_count": null,
   "metadata": {
    "collapsed": true
   },
   "outputs": [],
   "source": []
  }
 ],
 "metadata": {
  "kernelspec": {
   "display_name": "Python 2",
   "language": "python",
   "name": "python2"
  },
  "language_info": {
   "codemirror_mode": {
    "name": "ipython",
    "version": 2
   },
   "file_extension": ".py",
   "mimetype": "text/x-python",
   "name": "python",
   "nbconvert_exporter": "python",
   "pygments_lexer": "ipython2",
   "version": "2.7.13"
  }
 },
 "nbformat": 4,
 "nbformat_minor": 2
}
