{
 "cells": [
  {
   "cell_type": "markdown",
   "metadata": {},
   "source": [
    "# MSOS_Audio file processing"
   ]
  },
  {
   "cell_type": "code",
   "execution_count": 184,
   "metadata": {
    "collapsed": false
   },
   "outputs": [],
   "source": [
    "import numpy as np\n",
    "import matplotlib.pyplot as plt\n",
    "from sklearn import preprocessing\n",
    "import pandas as pd"
   ]
  },
  {
   "cell_type": "code",
   "execution_count": 185,
   "metadata": {
    "collapsed": false
   },
   "outputs": [],
   "source": [
    "path='C:/Users/Sultan/OneDrive - The University of Memphis/RESEARCH2017S/Msos/ACA-Code-master/Features/'\n",
    "TrainLabel=pd.read_csv(path+'Logsheet_Development.csv')\n",
    "datafeatures =pd.read_csv(path+'Effects5Features.csv', header=None,index_col=0)"
   ]
  },
  {
   "cell_type": "code",
   "execution_count": 169,
   "metadata": {
    "collapsed": false
   },
   "outputs": [
    {
     "name": "stdout",
     "output_type": "stream",
     "text": [
      "Int64Index([ 1,  2,  3,  4,  5,  6,  7,  8,  9, 10, 11, 12, 13, 14, 15, 16, 17,\n",
      "            18, 19, 20, 21, 22, 23, 24, 25, 26, 27, 28],\n",
      "           dtype='int64')\n"
     ]
    },
    {
     "data": {
      "text/html": [
       "<div>\n",
       "<table border=\"1\" class=\"dataframe\">\n",
       "  <thead>\n",
       "    <tr style=\"text-align: right;\">\n",
       "      <th></th>\n",
       "      <th>1</th>\n",
       "      <th>2</th>\n",
       "      <th>3</th>\n",
       "      <th>4</th>\n",
       "      <th>5</th>\n",
       "      <th>6</th>\n",
       "      <th>7</th>\n",
       "      <th>8</th>\n",
       "      <th>9</th>\n",
       "      <th>10</th>\n",
       "      <th>...</th>\n",
       "      <th>19</th>\n",
       "      <th>20</th>\n",
       "      <th>21</th>\n",
       "      <th>22</th>\n",
       "      <th>23</th>\n",
       "      <th>24</th>\n",
       "      <th>25</th>\n",
       "      <th>26</th>\n",
       "      <th>27</th>\n",
       "      <th>28</th>\n",
       "    </tr>\n",
       "    <tr>\n",
       "      <th>0</th>\n",
       "      <th></th>\n",
       "      <th></th>\n",
       "      <th></th>\n",
       "      <th></th>\n",
       "      <th></th>\n",
       "      <th></th>\n",
       "      <th></th>\n",
       "      <th></th>\n",
       "      <th></th>\n",
       "      <th></th>\n",
       "      <th></th>\n",
       "      <th></th>\n",
       "      <th></th>\n",
       "      <th></th>\n",
       "      <th></th>\n",
       "      <th></th>\n",
       "      <th></th>\n",
       "      <th></th>\n",
       "      <th></th>\n",
       "      <th></th>\n",
       "      <th></th>\n",
       "    </tr>\n",
       "  </thead>\n",
       "  <tbody>\n",
       "    <tr>\n",
       "      <th>03J.wav</th>\n",
       "      <td>4.906205</td>\n",
       "      <td>1055.628026</td>\n",
       "      <td>7.605449</td>\n",
       "      <td>-23.249128</td>\n",
       "      <td>0.478953</td>\n",
       "      <td>0.319090</td>\n",
       "      <td>0.256579</td>\n",
       "      <td>-0.060716</td>\n",
       "      <td>-0.117208</td>\n",
       "      <td>-0.303666</td>\n",
       "      <td>...</td>\n",
       "      <td>22.062527</td>\n",
       "      <td>24.452294</td>\n",
       "      <td>24.774585</td>\n",
       "      <td>24.489614</td>\n",
       "      <td>28.443349</td>\n",
       "      <td>21.662738</td>\n",
       "      <td>21.886083</td>\n",
       "      <td>20.406247</td>\n",
       "      <td>22.820997</td>\n",
       "      <td>24.868699</td>\n",
       "    </tr>\n",
       "    <tr>\n",
       "      <th>07L.wav</th>\n",
       "      <td>6.120973</td>\n",
       "      <td>2746.415288</td>\n",
       "      <td>1.228087</td>\n",
       "      <td>-23.080457</td>\n",
       "      <td>1.284844</td>\n",
       "      <td>0.154755</td>\n",
       "      <td>0.149175</td>\n",
       "      <td>-0.197483</td>\n",
       "      <td>-0.005162</td>\n",
       "      <td>0.194669</td>\n",
       "      <td>...</td>\n",
       "      <td>27.829959</td>\n",
       "      <td>28.084834</td>\n",
       "      <td>28.946397</td>\n",
       "      <td>37.689418</td>\n",
       "      <td>43.933097</td>\n",
       "      <td>32.898550</td>\n",
       "      <td>40.926311</td>\n",
       "      <td>26.186419</td>\n",
       "      <td>34.328383</td>\n",
       "      <td>33.115858</td>\n",
       "    </tr>\n",
       "    <tr>\n",
       "      <th>0M8.wav</th>\n",
       "      <td>6.803449</td>\n",
       "      <td>2376.418071</td>\n",
       "      <td>2.585456</td>\n",
       "      <td>-22.144287</td>\n",
       "      <td>0.422124</td>\n",
       "      <td>0.581304</td>\n",
       "      <td>0.225220</td>\n",
       "      <td>0.490620</td>\n",
       "      <td>0.139879</td>\n",
       "      <td>0.234843</td>\n",
       "      <td>...</td>\n",
       "      <td>64.875340</td>\n",
       "      <td>26.530116</td>\n",
       "      <td>26.111264</td>\n",
       "      <td>32.818721</td>\n",
       "      <td>43.901042</td>\n",
       "      <td>37.023079</td>\n",
       "      <td>38.787779</td>\n",
       "      <td>30.971113</td>\n",
       "      <td>25.168594</td>\n",
       "      <td>22.523497</td>\n",
       "    </tr>\n",
       "    <tr>\n",
       "      <th>0UB.wav</th>\n",
       "      <td>5.685944</td>\n",
       "      <td>3320.431151</td>\n",
       "      <td>4.427891</td>\n",
       "      <td>-21.883038</td>\n",
       "      <td>1.730397</td>\n",
       "      <td>0.468743</td>\n",
       "      <td>0.316811</td>\n",
       "      <td>0.265271</td>\n",
       "      <td>0.216345</td>\n",
       "      <td>0.233560</td>\n",
       "      <td>...</td>\n",
       "      <td>44.571421</td>\n",
       "      <td>58.266381</td>\n",
       "      <td>49.119924</td>\n",
       "      <td>65.294350</td>\n",
       "      <td>52.535993</td>\n",
       "      <td>46.730023</td>\n",
       "      <td>49.779434</td>\n",
       "      <td>60.528467</td>\n",
       "      <td>54.209352</td>\n",
       "      <td>46.013550</td>\n",
       "    </tr>\n",
       "    <tr>\n",
       "      <th>0W9.wav</th>\n",
       "      <td>3.820995</td>\n",
       "      <td>199.736541</td>\n",
       "      <td>3.536624</td>\n",
       "      <td>-22.169165</td>\n",
       "      <td>2.791941</td>\n",
       "      <td>0.321802</td>\n",
       "      <td>0.105875</td>\n",
       "      <td>-0.845199</td>\n",
       "      <td>1.092893</td>\n",
       "      <td>-0.196836</td>\n",
       "      <td>...</td>\n",
       "      <td>46.912580</td>\n",
       "      <td>84.050836</td>\n",
       "      <td>58.601979</td>\n",
       "      <td>54.690593</td>\n",
       "      <td>67.828389</td>\n",
       "      <td>56.278294</td>\n",
       "      <td>49.673001</td>\n",
       "      <td>50.785695</td>\n",
       "      <td>42.621273</td>\n",
       "      <td>50.766804</td>\n",
       "    </tr>\n",
       "  </tbody>\n",
       "</table>\n",
       "<p>5 rows × 28 columns</p>\n",
       "</div>"
      ],
      "text/plain": [
       "               1            2         3          4         5         6   \\\n",
       "0                                                                         \n",
       "03J.wav  4.906205  1055.628026  7.605449 -23.249128  0.478953  0.319090   \n",
       "07L.wav  6.120973  2746.415288  1.228087 -23.080457  1.284844  0.154755   \n",
       "0M8.wav  6.803449  2376.418071  2.585456 -22.144287  0.422124  0.581304   \n",
       "0UB.wav  5.685944  3320.431151  4.427891 -21.883038  1.730397  0.468743   \n",
       "0W9.wav  3.820995   199.736541  3.536624 -22.169165  2.791941  0.321802   \n",
       "\n",
       "               7         8         9         10    ...             19  \\\n",
       "0                                                  ...                  \n",
       "03J.wav  0.256579 -0.060716 -0.117208 -0.303666    ...      22.062527   \n",
       "07L.wav  0.149175 -0.197483 -0.005162  0.194669    ...      27.829959   \n",
       "0M8.wav  0.225220  0.490620  0.139879  0.234843    ...      64.875340   \n",
       "0UB.wav  0.316811  0.265271  0.216345  0.233560    ...      44.571421   \n",
       "0W9.wav  0.105875 -0.845199  1.092893 -0.196836    ...      46.912580   \n",
       "\n",
       "                20         21         22         23         24         25  \\\n",
       "0                                                                           \n",
       "03J.wav  24.452294  24.774585  24.489614  28.443349  21.662738  21.886083   \n",
       "07L.wav  28.084834  28.946397  37.689418  43.933097  32.898550  40.926311   \n",
       "0M8.wav  26.530116  26.111264  32.818721  43.901042  37.023079  38.787779   \n",
       "0UB.wav  58.266381  49.119924  65.294350  52.535993  46.730023  49.779434   \n",
       "0W9.wav  84.050836  58.601979  54.690593  67.828389  56.278294  49.673001   \n",
       "\n",
       "                26         27         28  \n",
       "0                                         \n",
       "03J.wav  20.406247  22.820997  24.868699  \n",
       "07L.wav  26.186419  34.328383  33.115858  \n",
       "0M8.wav  30.971113  25.168594  22.523497  \n",
       "0UB.wav  60.528467  54.209352  46.013550  \n",
       "0W9.wav  50.785695  42.621273  50.766804  \n",
       "\n",
       "[5 rows x 28 columns]"
      ]
     },
     "execution_count": 169,
     "metadata": {},
     "output_type": "execute_result"
    }
   ],
   "source": [
    "print datafeatures.columns\n",
    "datafeatures.head()"
   ]
  },
  {
   "cell_type": "code",
   "execution_count": 186,
   "metadata": {
    "collapsed": false
   },
   "outputs": [
    {
     "name": "stdout",
     "output_type": "stream",
     "text": [
      "(300, 28)\n"
     ]
    },
    {
     "data": {
      "text/plain": [
       "1     0.509243\n",
       "2    28.460219\n",
       "3     0.124653\n",
       "4   -41.275860\n",
       "5    -6.174909\n",
       "dtype: float64"
      ]
     },
     "execution_count": 186,
     "metadata": {},
     "output_type": "execute_result"
    }
   ],
   "source": [
    "df=datafeatures[datafeatures.columns[0:28]]\n",
    "print df.shape\n",
    "aa=df.min(axis=0)\n",
    "df.iloc[:,0].max()\n",
    "aa.head()\n",
    "#print aa.iloc[0] == df.iloc[:,0].max()"
   ]
  },
  {
   "cell_type": "code",
   "execution_count": 64,
   "metadata": {
    "collapsed": false
   },
   "outputs": [
    {
     "data": {
      "text/plain": [
       "pandas.core.frame.DataFrame"
      ]
     },
     "execution_count": 64,
     "metadata": {},
     "output_type": "execute_result"
    }
   ],
   "source": [
    "amax=datafeatures.max(axis=0)\n",
    "amin=datafeatures.min(axis=0)\n",
    "#da=pd.concat([amax, amin],axis=1)\n",
    "tt=pd.Series(amin)\n",
    "type(datafeatures)\n",
    "#amax"
   ]
  },
  {
   "cell_type": "code",
   "execution_count": 188,
   "metadata": {
    "collapsed": false
   },
   "outputs": [],
   "source": [
    "min_max_scaler = preprocessing.MinMaxScaler()\n",
    "scaled_array = min_max_scaler.fit_transform(df)"
   ]
  },
  {
   "cell_type": "code",
   "execution_count": 192,
   "metadata": {
    "collapsed": false
   },
   "outputs": [
    {
     "data": {
      "text/plain": [
       "(300, 28)"
      ]
     },
     "execution_count": 192,
     "metadata": {},
     "output_type": "execute_result"
    }
   ],
   "source": [
    "df_normalized = pd.DataFrame(scaled_array)\n",
    "df_normalized.shape"
   ]
  },
  {
   "cell_type": "code",
   "execution_count": null,
   "metadata": {
    "collapsed": true
   },
   "outputs": [],
   "source": []
  },
  {
   "cell_type": "code",
   "execution_count": 20,
   "metadata": {
    "collapsed": false
   },
   "outputs": [
    {
     "data": {
      "text/html": [
       "<div>\n",
       "<table border=\"1\" class=\"dataframe\">\n",
       "  <thead>\n",
       "    <tr style=\"text-align: right;\">\n",
       "      <th></th>\n",
       "      <th>Category</th>\n",
       "      <th>Event</th>\n",
       "      <th>File</th>\n",
       "    </tr>\n",
       "  </thead>\n",
       "  <tbody>\n",
       "    <tr>\n",
       "      <th>0</th>\n",
       "      <td>Effects</td>\n",
       "      <td>Beep</td>\n",
       "      <td>TN7.wav</td>\n",
       "    </tr>\n",
       "    <tr>\n",
       "      <th>1</th>\n",
       "      <td>Effects</td>\n",
       "      <td>Beep</td>\n",
       "      <td>RTS.wav</td>\n",
       "    </tr>\n",
       "    <tr>\n",
       "      <th>2</th>\n",
       "      <td>Effects</td>\n",
       "      <td>Beep</td>\n",
       "      <td>NUO.wav</td>\n",
       "    </tr>\n",
       "    <tr>\n",
       "      <th>3</th>\n",
       "      <td>Effects</td>\n",
       "      <td>Beep</td>\n",
       "      <td>CPU.wav</td>\n",
       "    </tr>\n",
       "    <tr>\n",
       "      <th>4</th>\n",
       "      <td>Effects</td>\n",
       "      <td>Beep</td>\n",
       "      <td>SB2.wav</td>\n",
       "    </tr>\n",
       "  </tbody>\n",
       "</table>\n",
       "</div>"
      ],
      "text/plain": [
       "  Category Event     File\n",
       "0  Effects  Beep  TN7.wav\n",
       "1  Effects  Beep  RTS.wav\n",
       "2  Effects  Beep  NUO.wav\n",
       "3  Effects  Beep  CPU.wav\n",
       "4  Effects  Beep  SB2.wav"
      ]
     },
     "execution_count": 20,
     "metadata": {},
     "output_type": "execute_result"
    }
   ],
   "source": [
    "TrainLabel.head()"
   ]
  }
 ],
 "metadata": {
  "kernelspec": {
   "display_name": "Python 2",
   "language": "python",
   "name": "python2"
  },
  "language_info": {
   "codemirror_mode": {
    "name": "ipython",
    "version": 2
   },
   "file_extension": ".py",
   "mimetype": "text/x-python",
   "name": "python",
   "nbconvert_exporter": "python",
   "pygments_lexer": "ipython2",
   "version": "2.7.13"
  }
 },
 "nbformat": 4,
 "nbformat_minor": 2
}
